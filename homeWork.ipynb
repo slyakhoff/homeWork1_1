{
 "cells": [
  {
   "cell_type": "markdown",
   "metadata": {
    "deletable": true,
    "editable": true
   },
   "source": [
    "## Numpy"
   ]
  },
  {
   "cell_type": "markdown",
   "metadata": {
    "deletable": true,
    "editable": true
   },
   "source": [
    "Импортировать NumPy под именем np"
   ]
  },
  {
   "cell_type": "code",
   "execution_count": 2,
   "metadata": {
    "collapsed": true,
    "deletable": true,
    "editable": true
   },
   "outputs": [],
   "source": [
    "import numpy as np"
   ]
  },
  {
   "cell_type": "markdown",
   "metadata": {
    "deletable": true,
    "editable": true
   },
   "source": [
    "Создать вектор (одномерный массив) размера 10, заполненный нулями"
   ]
  },
  {
   "cell_type": "code",
   "execution_count": 2,
   "metadata": {
    "collapsed": true,
    "deletable": true,
    "editable": true
   },
   "outputs": [
    {
     "name": "stdout",
     "output_type": "stream",
     "text": [
      "[0 0 0 0 0 0 0 0 0 0]\n"
     ]
    }
   ],
   "source": [
    "vec0 = np.array([0]*10)\n",
    "print(vec0)"
   ]
  },
  {
   "cell_type": "markdown",
   "metadata": {
    "deletable": true,
    "editable": true
   },
   "source": [
    "Создать вектор размера 10, заполненный единицами"
   ]
  },
  {
   "cell_type": "code",
   "execution_count": 3,
   "metadata": {
    "collapsed": true,
    "deletable": true,
    "editable": true
   },
   "outputs": [
    {
     "name": "stdout",
     "output_type": "stream",
     "text": [
      "[1 1 1 1 1 1 1 1 1 1]\n"
     ]
    }
   ],
   "source": [
    "vec1 = np.array([1]*10)\n",
    "print(vec1)"
   ]
  },
  {
   "cell_type": "markdown",
   "metadata": {
    "deletable": true,
    "editable": true
   },
   "source": [
    "Создать вектор размера 10, заполненный числом 2.5"
   ]
  },
  {
   "cell_type": "code",
   "execution_count": 4,
   "metadata": {
    "collapsed": true,
    "deletable": true,
    "editable": true
   },
   "outputs": [
    {
     "name": "stdout",
     "output_type": "stream",
     "text": [
      "[ 2.5  2.5  2.5  2.5  2.5  2.5  2.5  2.5  2.5  2.5]\n"
     ]
    }
   ],
   "source": [
    "vec2 = np.array([2.5]*10)\n",
    "print(vec2)"
   ]
  },
  {
   "cell_type": "markdown",
   "metadata": {
    "deletable": true,
    "editable": true
   },
   "source": [
    "Создать вектор размера 10, заполненный нулями, но пятый элемент равен 1"
   ]
  },
  {
   "cell_type": "code",
   "execution_count": 8,
   "metadata": {
    "collapsed": true,
    "deletable": true,
    "editable": true
   },
   "outputs": [
    {
     "name": "stdout",
     "output_type": "stream",
     "text": [
      "[0 0 0 0 1 0 0 0 0 0]\n"
     ]
    }
   ],
   "source": [
    "vec3 = np.array([0]*10)\n",
    "vec3[4] = 1\n",
    "print(vec3)"
   ]
  },
  {
   "cell_type": "markdown",
   "metadata": {
    "deletable": true,
    "editable": true
   },
   "source": [
    "Развернуть вектор (первый становится последним)"
   ]
  },
  {
   "cell_type": "code",
   "execution_count": 9,
   "metadata": {
    "collapsed": true,
    "deletable": true,
    "editable": true
   },
   "outputs": [
    {
     "name": "stdout",
     "output_type": "stream",
     "text": [
      "[0 0 0 0 0 1 0 0 0 0]\n"
     ]
    }
   ],
   "source": [
    "reversed_vec3 = vec3[::-1]\n",
    "print(reversed_vec3)"
   ]
  },
  {
   "cell_type": "markdown",
   "metadata": {
    "deletable": true,
    "editable": true
   },
   "source": [
    "Создать матрицу (двумерный массив) 3x3 со значениями от 0 до 8"
   ]
  },
  {
   "cell_type": "code",
   "execution_count": 3,
   "metadata": {
    "collapsed": true,
    "deletable": true,
    "editable": true
   },
   "outputs": [
    {
     "name": "stdout",
     "output_type": "stream",
     "text": [
      "[[2 6 6]\n",
      " [7 3 3]\n",
      " [3 5 5]]\n",
      "[[ 2.19139971  0.63670326  5.79364051]\n",
      " [ 4.07634544  6.72248731  3.36014005]\n",
      " [ 2.4925152   3.32694051  4.26935359]]\n"
     ]
    }
   ],
   "source": [
    "import numpy as np\n",
    "matrix_it = np.random.randint(0, 8, (3, 3))\n",
    "matrix_fl = np.random.uniform(0, 8, (3, 3))\n",
    "print(matrix_it)\n",
    "print(matrix_fl)"
   ]
  },
  {
   "cell_type": "markdown",
   "metadata": {
    "deletable": true,
    "editable": true
   },
   "source": [
    "Найти индексы ненулевых элементов в [1,2,0,0,4,0]"
   ]
  },
  {
   "cell_type": "code",
   "execution_count": 18,
   "metadata": {
    "collapsed": true,
    "deletable": true,
    "editable": true
   },
   "outputs": [
    {
     "name": "stdout",
     "output_type": "stream",
     "text": [
      "(array([0, 1, 4], dtype=int64),)\n"
     ]
    }
   ],
   "source": [
    "vec_non_zero = np.nonzero([1,2,0,0,4,0])\n",
    "print(vec_non_zero)"
   ]
  },
  {
   "cell_type": "markdown",
   "metadata": {
    "deletable": true,
    "editable": true
   },
   "source": [
    "Создать 3x3 единичную матрицу"
   ]
  },
  {
   "cell_type": "code",
   "execution_count": 6,
   "metadata": {
    "collapsed": true,
    "deletable": true,
    "editable": true
   },
   "outputs": [
    {
     "name": "stdout",
     "output_type": "stream",
     "text": [
      "[[ 1.  0.  0.]\n",
      " [ 0.  1.  0.]\n",
      " [ 0.  0.  1.]]\n"
     ]
    }
   ],
   "source": [
    "matrix_one = np.eye(3,3)\n",
    "print(matrix_one)"
   ]
  },
  {
   "cell_type": "markdown",
   "metadata": {
    "deletable": true,
    "editable": true
   },
   "source": [
    "Создать массив 3x3x3 со случайными значениями"
   ]
  },
  {
   "cell_type": "code",
   "execution_count": 4,
   "metadata": {
    "collapsed": true,
    "deletable": true,
    "editable": true
   },
   "outputs": [
    {
     "name": "stdout",
     "output_type": "stream",
     "text": [
      "[[[ 6.12295274  6.21903476  0.99245826]\n",
      "  [ 6.34638131  7.26755652  1.24479041]\n",
      "  [ 1.72683889  0.96471897  2.65146341]]\n",
      "\n",
      " [[ 0.94619987  0.69088543  5.84986174]\n",
      "  [ 4.62912513  1.51497682  6.71242961]\n",
      "  [ 0.61271555  0.35173725  5.77291565]]\n",
      "\n",
      " [[ 6.09076204  2.69353141  6.00350788]\n",
      "  [ 3.81584966  1.87485233  4.92862217]\n",
      "  [ 5.28536142  4.22076695  6.82211365]]]\n"
     ]
    }
   ],
   "source": [
    "import numpy as np\n",
    "matrix_fl = np.random.uniform(0, 8, (3, 3, 3))\n",
    "print(matrix_fl)"
   ]
  },
  {
   "cell_type": "markdown",
   "metadata": {
    "deletable": true,
    "editable": true
   },
   "source": [
    "Создать случайный вектор размера 30 и найти среднее значение всех элементов"
   ]
  },
  {
   "cell_type": "code",
   "execution_count": 17,
   "metadata": {
    "collapsed": true,
    "deletable": true,
    "editable": true
   },
   "outputs": [
    {
     "name": "stdout",
     "output_type": "stream",
     "text": [
      "[ 0.88509294  0.90419762  0.0104217   0.07455674  0.24462921  0.13330475\n",
      "  0.6979251   0.39820488  0.88312219  0.18100751  0.43249917  0.0181432\n",
      "  0.69143786  0.46969065  0.12822219  0.89133705  0.91820362  0.07312099\n",
      "  0.04544794  0.4385729   0.60172093  0.31022703  0.68190824  0.20901315\n",
      "  0.5196043   0.56598883  0.44116739  0.13755616  0.21354319  0.13337189]\n",
      "0.411107978013\n"
     ]
    }
   ],
   "source": [
    "import numpy as np\n",
    "\n",
    "vec30 = np.random.random(30)\n",
    "print(vec30)\n",
    "print(vec30.mean())"
   ]
  },
  {
   "cell_type": "markdown",
   "metadata": {
    "deletable": true,
    "editable": true
   },
   "source": [
    "Перемножить матрицы 5x3 и 3x2"
   ]
  },
  {
   "cell_type": "code",
   "execution_count": 21,
   "metadata": {
    "collapsed": true,
    "deletable": true,
    "editable": true
   },
   "outputs": [
    {
     "name": "stdout",
     "output_type": "stream",
     "text": [
      "[[5 4 4]\n",
      " [4 3 5]\n",
      " [4 2 1]\n",
      " [0 7 6]\n",
      " [0 1 6]] [[1 1]\n",
      " [6 5]\n",
      " [0 0]]\n",
      "[[29 25]\n",
      " [22 19]\n",
      " [16 14]\n",
      " [42 35]\n",
      " [ 6  5]]\n"
     ]
    }
   ],
   "source": [
    "import numpy as np\n",
    "m1 = np.random.randint(0, 8, (5, 3))\n",
    "m2 = np.random.randint(0, 8, (3, 2))\n",
    "print(m1,m2)\n",
    "print(m1.dot(m2))"
   ]
  },
  {
   "cell_type": "markdown",
   "metadata": {
    "deletable": true,
    "editable": true
   },
   "source": [
    "Создать вектор размера 10 со значениями от 0 до 1, не включая ни то, ни другое"
   ]
  },
  {
   "cell_type": "code",
   "execution_count": 26,
   "metadata": {
    "collapsed": false,
    "deletable": true,
    "editable": true
   },
   "outputs": [
    {
     "name": "stdout",
     "output_type": "stream",
     "text": [
      "[ 0.09090909  0.18181818  0.27272727  0.36363636  0.45454545  0.54545455\n",
      "  0.63636364  0.72727273  0.81818182  0.90909091]\n"
     ]
    }
   ],
   "source": [
    "vec10 = np.linspace(0,1,12)[1:-1]\n",
    "print(vec10)"
   ]
  },
  {
   "cell_type": "markdown",
   "metadata": {
    "deletable": true,
    "editable": true
   },
   "source": [
    "Заменить максимальный элемент на ноль"
   ]
  },
  {
   "cell_type": "code",
   "execution_count": 29,
   "metadata": {
    "collapsed": true,
    "deletable": true,
    "editable": true
   },
   "outputs": [
    {
     "name": "stdout",
     "output_type": "stream",
     "text": [
      "0.909090909091\n"
     ]
    }
   ],
   "source": [
    "vec10[vec10.argmax()] = 0\n"
   ]
  },
  {
   "cell_type": "markdown",
   "metadata": {
    "deletable": true,
    "editable": true
   },
   "source": [
    "Преобразовать массив из float в int"
   ]
  },
  {
   "cell_type": "code",
   "execution_count": null,
   "metadata": {
    "collapsed": true,
    "deletable": true,
    "editable": true
   },
   "outputs": [],
   "source": []
  },
  {
   "cell_type": "markdown",
   "metadata": {
    "deletable": true,
    "editable": true
   },
   "source": [
    "Дан массив (10,2) координат, найти расстояние от каждой точки до каждой"
   ]
  },
  {
   "cell_type": "code",
   "execution_count": 36,
   "metadata": {
    "collapsed": true,
    "deletable": true,
    "editable": true
   },
   "outputs": [
    {
     "name": "stdout",
     "output_type": "stream",
     "text": [
      "[[3 2]\n",
      " [0 4]\n",
      " [2 2]\n",
      " [2 4]\n",
      " [3 0]\n",
      " [0 0]\n",
      " [0 1]\n",
      " [2 3]\n",
      " [0 1]\n",
      " [1 1]]\n",
      "[[ 0.          3.60555128  1.          2.23606798  2.          3.60555128\n",
      "   3.16227766  1.41421356  3.16227766  2.23606798]\n",
      " [ 3.60555128  0.          2.82842712  2.          5.          4.          3.\n",
      "   2.23606798  3.          3.16227766]\n",
      " [ 1.          2.82842712  0.          2.          2.23606798  2.82842712\n",
      "   2.23606798  1.          2.23606798  1.41421356]\n",
      " [ 2.23606798  2.          2.          0.          4.12310563  4.47213595\n",
      "   3.60555128  1.          3.60555128  3.16227766]\n",
      " [ 2.          5.          2.23606798  4.12310563  0.          3.\n",
      "   3.16227766  3.16227766  3.16227766  2.23606798]\n",
      " [ 3.60555128  4.          2.82842712  4.47213595  3.          0.          1.\n",
      "   3.60555128  1.          1.41421356]\n",
      " [ 3.16227766  3.          2.23606798  3.60555128  3.16227766  1.          0.\n",
      "   2.82842712  0.          1.        ]\n",
      " [ 1.41421356  2.23606798  1.          1.          3.16227766  3.60555128\n",
      "   2.82842712  0.          2.82842712  2.23606798]\n",
      " [ 3.16227766  3.          2.23606798  3.60555128  3.16227766  1.          0.\n",
      "   2.82842712  0.          1.        ]\n",
      " [ 2.23606798  3.16227766  1.41421356  3.16227766  2.23606798  1.41421356\n",
      "   1.          2.23606798  1.          0.        ]]\n",
      "\n",
      " ******************************************** \n",
      "\n",
      "[[ 0.          3.60555128  1.          2.23606798  2.          3.60555128\n",
      "   3.16227766  1.41421356  3.16227766  2.23606798]\n",
      " [ 3.60555128  0.          2.82842712  2.          5.          4.          3.\n",
      "   2.23606798  3.          3.16227766]\n",
      " [ 1.          2.82842712  0.          2.          2.23606798  2.82842712\n",
      "   2.23606798  1.          2.23606798  1.41421356]\n",
      " [ 2.23606798  2.          2.          0.          4.12310563  4.47213595\n",
      "   3.60555128  1.          3.60555128  3.16227766]\n",
      " [ 2.          5.          2.23606798  4.12310563  0.          3.\n",
      "   3.16227766  3.16227766  3.16227766  2.23606798]\n",
      " [ 3.60555128  4.          2.82842712  4.47213595  3.          0.          1.\n",
      "   3.60555128  1.          1.41421356]\n",
      " [ 3.16227766  3.          2.23606798  3.60555128  3.16227766  1.          0.\n",
      "   2.82842712  0.          1.        ]\n",
      " [ 1.41421356  2.23606798  1.          1.          3.16227766  3.60555128\n",
      "   2.82842712  0.          2.82842712  2.23606798]\n",
      " [ 3.16227766  3.          2.23606798  3.60555128  3.16227766  1.          0.\n",
      "   2.82842712  0.          1.        ]\n",
      " [ 2.23606798  3.16227766  1.41421356  3.16227766  2.23606798  1.41421356\n",
      "   1.          2.23606798  1.          0.        ]]\n"
     ]
    }
   ],
   "source": [
    "import scipy.spatial\n",
    "from sklearn.metrics.pairwise import euclidean_distances\n",
    "\n",
    "M = np.random.randint(0, 5, (10, 2))\n",
    "print(M)\n",
    "scipy_D = scipy.spatial.distance.cdist(M,M)\n",
    "sciln_D = euclidean_distances(M,M) \n",
    "print(scipy_D)\n",
    "print('\\n','********************************************', '\\n')\n",
    "print(sciln_D)"
   ]
  },
  {
   "cell_type": "markdown",
   "metadata": {
    "deletable": true,
    "editable": true
   },
   "source": [
    "Случайно расположить p элементов в 2D массив"
   ]
  },
  {
   "cell_type": "code",
   "execution_count": 48,
   "metadata": {
    "collapsed": true,
    "deletable": true,
    "editable": true
   },
   "outputs": [
    {
     "name": "stdout",
     "output_type": "stream",
     "text": [
      "[[  0.   0.  68.   0.   0.   0.   0.   0.   0.   0.]\n",
      " [  0.  68.   0.   0.   0.   0.   0.   0.   0.   0.]\n",
      " [  0.   0.   0.   0.   0.   0.   0.   0.   0.   0.]\n",
      " [  0.   0.   0.   0.   0.   0.   0.   0.   0.   0.]\n",
      " [  0.   0.   0.   0.   0.   0.   0.   0.   0.   0.]\n",
      " [  0.   0.   0.   0.   0.   0.   0.   0.   0.   0.]\n",
      " [  0.   0.   0.   0.   0.   0.   0.   0.   0.   0.]\n",
      " [  0.   0.   0.   0.   0.   0.   0.  68.   0.   0.]\n",
      " [  0.   0.   0.   0.   0.   0.   0.   0.   0.   0.]\n",
      " [  0.   0.   0.   0.   0.   0.   0.   0.   0.   0.]]\n",
      "\n",
      "********************** Вариант 2 ******************************\n",
      "\n",
      "[[  0.   0.   0.   0.   0.   0.   0.   0.   0.   0.]\n",
      " [  0.   0.   0.   0.   0.   0.   0.   0.   0.   0.]\n",
      " [  0.   0.   0.   0.   0.   0.   0.   0.   0.   0.]\n",
      " [  0.   0.   0.   0.   0.   0.   0.   0.   0.   0.]\n",
      " [  0.   0.   0.   0.   0.   0.   0.   0.  97.   0.]\n",
      " [  0.   0.   0.   0.   0.  88.   0.   0.   0.   0.]\n",
      " [  0.   0.   0.   0.   0.   0.   0.   0.   0.   0.]\n",
      " [  0.   0.   0.   0.   0.   0.   0.   0.   0.   0.]\n",
      " [  0.   0.   0.   0.   0.   0.   0.   0.   0.   0.]\n",
      " [  0.   0.   0.   0.   0.   0.   0.   0.   0.  14.]]\n"
     ]
    }
   ],
   "source": [
    "import numpy as np\n",
    "import random\n",
    "n = 10\n",
    "p = 3\n",
    "a = np.random.choice(range(n*n), 1, replace=False)\n",
    "M = np.zeros((n,n))\n",
    "A = np.put(M, np.random.choice(range(n*n), p, replace=False), a)\n",
    "print(M)\n",
    "\n",
    "print('\\n'+'********************** Вариант 2 ******************************'+ '\\n')\n",
    "\n",
    "M = np.zeros((n,n))\n",
    "a = np.random.choice(range(n*n), p, replace=False)\n",
    "np.put(M, range(p), a)\n",
    "M.shape = (1,n*n)\n",
    "A = np.random.shuffle(M[0])\n",
    "M.shape = (n,n)\n",
    "print(M)"
   ]
  },
  {
   "cell_type": "markdown",
   "metadata": {
    "deletable": true,
    "editable": true
   },
   "source": [
    "Дан вектор [1, 2, 3, 4, 5], построить новый вектор с тремя нулями между каждым значением"
   ]
  },
  {
   "cell_type": "code",
   "execution_count": 52,
   "metadata": {
    "collapsed": true,
    "deletable": true,
    "editable": true
   },
   "outputs": [
    {
     "name": "stdout",
     "output_type": "stream",
     "text": [
      "[ 0.  0.  0.  0.  0.  0.  0.  0.  0.  0.  0.  0.  0.  0.  0.  0.  0.]\n",
      "[ 1.  0.  0.  0.  2.  0.  0.  0.  3.  0.  0.  0.  4.  0.  0.  0.  5.]\n"
     ]
    }
   ],
   "source": [
    "import numpy as np\n",
    "\n",
    "n = 3\n",
    "vec = [1, 2, 3, 4, 5]\n",
    "new_vec = np.zeros((len(vec)-1)*n+len(vec))\n",
    "print(new_vec)\n",
    "new_vec[::n+1] = vec\n",
    "print(new_vec)\n",
    "\n"
   ]
  },
  {
   "cell_type": "markdown",
   "metadata": {
    "deletable": true,
    "editable": true
   },
   "source": [
    "Найти наиболее частое значение в массиве"
   ]
  },
  {
   "cell_type": "code",
   "execution_count": null,
   "metadata": {
    "collapsed": true,
    "deletable": true,
    "editable": true
   },
   "outputs": [],
   "source": []
  },
  {
   "cell_type": "markdown",
   "metadata": {
    "deletable": true,
    "editable": true
   },
   "source": [
    "Найти n наибольших значений в массиве"
   ]
  },
  {
   "cell_type": "code",
   "execution_count": null,
   "metadata": {
    "collapsed": true,
    "deletable": true,
    "editable": true
   },
   "outputs": [],
   "source": []
  },
  {
   "cell_type": "markdown",
   "metadata": {
    "deletable": true,
    "editable": true
   },
   "source": [
    "## Pandas - изучение данных"
   ]
  },
  {
   "cell_type": "markdown",
   "metadata": {
    "deletable": true,
    "editable": true
   },
   "source": [
    "Перейти по ссылке [Kaggle]( https://www.kaggle.com/openfoodfacts/world-food-facts)"
   ]
  },
  {
   "cell_type": "markdown",
   "metadata": {
    "deletable": true,
    "editable": true
   },
   "source": [
    "Скачать датасет на свой компьютер и распаковать"
   ]
  },
  {
   "cell_type": "markdown",
   "metadata": {
    "deletable": true,
    "editable": true
   },
   "source": [
    "Считать csv файл в датафрейм food"
   ]
  },
  {
   "cell_type": "code",
   "execution_count": null,
   "metadata": {
    "collapsed": true,
    "deletable": true,
    "editable": true
   },
   "outputs": [],
   "source": []
  },
  {
   "cell_type": "markdown",
   "metadata": {
    "deletable": true,
    "editable": true
   },
   "source": [
    "Посмотреть первые 5 записей"
   ]
  },
  {
   "cell_type": "code",
   "execution_count": null,
   "metadata": {
    "collapsed": true,
    "deletable": true,
    "editable": true
   },
   "outputs": [],
   "source": []
  },
  {
   "cell_type": "markdown",
   "metadata": {
    "deletable": true,
    "editable": true
   },
   "source": [
    "Сколько наблюдений в наборе данных?\n"
   ]
  },
  {
   "cell_type": "code",
   "execution_count": null,
   "metadata": {
    "collapsed": true,
    "deletable": true,
    "editable": true
   },
   "outputs": [],
   "source": []
  },
  {
   "cell_type": "markdown",
   "metadata": {
    "deletable": true,
    "editable": true
   },
   "source": [
    "Сколько столбцов в наборе данных?"
   ]
  },
  {
   "cell_type": "code",
   "execution_count": null,
   "metadata": {
    "collapsed": true,
    "deletable": true,
    "editable": true
   },
   "outputs": [],
   "source": []
  },
  {
   "cell_type": "markdown",
   "metadata": {
    "deletable": true,
    "editable": true
   },
   "source": [
    "Напечатайте все названия столбцов"
   ]
  },
  {
   "cell_type": "code",
   "execution_count": null,
   "metadata": {
    "collapsed": true,
    "deletable": true,
    "editable": true
   },
   "outputs": [],
   "source": []
  },
  {
   "cell_type": "markdown",
   "metadata": {
    "deletable": true,
    "editable": true
   },
   "source": [
    "Какое название у 105 столбца?"
   ]
  },
  {
   "cell_type": "code",
   "execution_count": null,
   "metadata": {
    "collapsed": true
   },
   "outputs": [],
   "source": []
  },
  {
   "cell_type": "markdown",
   "metadata": {},
   "source": [
    "Какой тип наблюдений в 105 столбце?"
   ]
  },
  {
   "cell_type": "code",
   "execution_count": null,
   "metadata": {
    "collapsed": true
   },
   "outputs": [],
   "source": []
  },
  {
   "cell_type": "markdown",
   "metadata": {},
   "source": [
    "Как проиндексирован набор данных?"
   ]
  },
  {
   "cell_type": "code",
   "execution_count": null,
   "metadata": {
    "collapsed": true
   },
   "outputs": [],
   "source": []
  },
  {
   "cell_type": "markdown",
   "metadata": {},
   "source": [
    "Каково значение имени продукта в 19-м наблюдении?"
   ]
  },
  {
   "cell_type": "code",
   "execution_count": null,
   "metadata": {
    "collapsed": true
   },
   "outputs": [],
   "source": []
  },
  {
   "cell_type": "markdown",
   "metadata": {},
   "source": [
    "## Pandas - фильтрация данных"
   ]
  },
  {
   "cell_type": "markdown",
   "metadata": {},
   "source": [
    "Считать данные по  [адресу](https://raw.githubusercontent.com/justmarkham/DAT8/master/data/chipotle.tsv). \n",
    "Присвоить переменной chipo"
   ]
  },
  {
   "cell_type": "code",
   "execution_count": null,
   "metadata": {
    "collapsed": true
   },
   "outputs": [],
   "source": []
  },
  {
   "cell_type": "markdown",
   "metadata": {},
   "source": [
    "Как много продуктов стоят более чем $10.00?"
   ]
  },
  {
   "cell_type": "code",
   "execution_count": null,
   "metadata": {
    "collapsed": true
   },
   "outputs": [],
   "source": []
  },
  {
   "cell_type": "markdown",
   "metadata": {},
   "source": [
    "Какова цена каждого предмета? Напечатать столбцы item_name и item_price"
   ]
  },
  {
   "cell_type": "code",
   "execution_count": null,
   "metadata": {
    "collapsed": true
   },
   "outputs": [],
   "source": []
  },
  {
   "cell_type": "markdown",
   "metadata": {},
   "source": [
    "Отсортировать по имени предмета"
   ]
  },
  {
   "cell_type": "code",
   "execution_count": null,
   "metadata": {
    "collapsed": true
   },
   "outputs": [],
   "source": []
  },
  {
   "cell_type": "markdown",
   "metadata": {},
   "source": [
    "Сколько было заказано самого дорогого предмета?"
   ]
  },
  {
   "cell_type": "code",
   "execution_count": null,
   "metadata": {
    "collapsed": true
   },
   "outputs": [],
   "source": []
  },
  {
   "cell_type": "markdown",
   "metadata": {},
   "source": [
    "Сколько раз был заказан предмет \"Veggie Salad Bowl\"?"
   ]
  },
  {
   "cell_type": "code",
   "execution_count": null,
   "metadata": {
    "collapsed": true
   },
   "outputs": [],
   "source": []
  },
  {
   "cell_type": "markdown",
   "metadata": {},
   "source": [
    "Сколько раз люди заказали более чем 1 предмет \"Canned Soda\"?"
   ]
  },
  {
   "cell_type": "code",
   "execution_count": null,
   "metadata": {
    "collapsed": true
   },
   "outputs": [],
   "source": []
  }
 ],
 "metadata": {
  "kernelspec": {
   "display_name": "Python 3",
   "language": "python",
   "name": "python3"
  },
  "language_info": {
   "codemirror_mode": {
    "name": "ipython",
    "version": 3
   },
   "file_extension": ".py",
   "mimetype": "text/x-python",
   "name": "python",
   "nbconvert_exporter": "python",
   "pygments_lexer": "ipython3",
   "version": "3.6.1"
  }
 },
 "nbformat": 4,
 "nbformat_minor": 2
}
