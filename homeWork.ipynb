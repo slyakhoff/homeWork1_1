{
 "cells": [
  {
   "cell_type": "markdown",
   "metadata": {},
   "source": [
    "## Numpy"
   ]
  },
  {
   "cell_type": "markdown",
   "metadata": {},
   "source": [
    "Импортировать NumPy под именем np"
   ]
  },
  {
   "cell_type": "code",
   "execution_count": 2,
   "metadata": {
    "collapsed": true
   },
   "outputs": [],
   "source": [
    "import numpy as np"
   ]
  },
  {
   "cell_type": "markdown",
   "metadata": {},
   "source": [
    "Создать вектор (одномерный массив) размера 10, заполненный нулями"
   ]
  },
  {
   "cell_type": "code",
   "execution_count": 2,
   "metadata": {
    "collapsed": true
   },
   "outputs": [
    {
     "name": "stdout",
     "output_type": "stream",
     "text": [
      "[0 0 0 0 0 0 0 0 0 0]\n"
     ]
    }
   ],
   "source": [
    "vec0 = np.array([0]*10)\n",
    "print(vec0)"
   ]
  },
  {
   "cell_type": "markdown",
   "metadata": {},
   "source": [
    "Создать вектор размера 10, заполненный единицами"
   ]
  },
  {
   "cell_type": "code",
   "execution_count": 3,
   "metadata": {
    "collapsed": true
   },
   "outputs": [
    {
     "name": "stdout",
     "output_type": "stream",
     "text": [
      "[1 1 1 1 1 1 1 1 1 1]\n"
     ]
    }
   ],
   "source": [
    "vec1 = np.array([1]*10)\n",
    "print(vec1)"
   ]
  },
  {
   "cell_type": "markdown",
   "metadata": {},
   "source": [
    "Создать вектор размера 10, заполненный числом 2.5"
   ]
  },
  {
   "cell_type": "code",
   "execution_count": 4,
   "metadata": {
    "collapsed": true
   },
   "outputs": [
    {
     "name": "stdout",
     "output_type": "stream",
     "text": [
      "[ 2.5  2.5  2.5  2.5  2.5  2.5  2.5  2.5  2.5  2.5]\n"
     ]
    }
   ],
   "source": [
    "vec2 = np.array([2.5]*10)\n",
    "print(vec2)"
   ]
  },
  {
   "cell_type": "markdown",
   "metadata": {},
   "source": [
    "Создать вектор размера 10, заполненный нулями, но пятый элемент равен 1"
   ]
  },
  {
   "cell_type": "code",
   "execution_count": 8,
   "metadata": {
    "collapsed": true
   },
   "outputs": [
    {
     "name": "stdout",
     "output_type": "stream",
     "text": [
      "[0 0 0 0 1 0 0 0 0 0]\n"
     ]
    }
   ],
   "source": [
    "vec3 = np.array([0]*10)\n",
    "vec3[4] = 1\n",
    "print(vec3)"
   ]
  },
  {
   "cell_type": "markdown",
   "metadata": {},
   "source": [
    "Развернуть вектор (первый становится последним)"
   ]
  },
  {
   "cell_type": "code",
   "execution_count": 9,
   "metadata": {
    "collapsed": true
   },
   "outputs": [
    {
     "name": "stdout",
     "output_type": "stream",
     "text": [
      "[0 0 0 0 0 1 0 0 0 0]\n"
     ]
    }
   ],
   "source": [
    "reversed_vec3 = vec3[::-1]\n",
    "print(reversed_vec3)"
   ]
  },
  {
   "cell_type": "markdown",
   "metadata": {},
   "source": [
    "Создать матрицу (двумерный массив) 3x3 со значениями от 0 до 8"
   ]
  },
  {
   "cell_type": "code",
   "execution_count": 3,
   "metadata": {
    "collapsed": true
   },
   "outputs": [
    {
     "name": "stdout",
     "output_type": "stream",
     "text": [
      "[[2 6 6]\n",
      " [7 3 3]\n",
      " [3 5 5]]\n",
      "[[ 2.19139971  0.63670326  5.79364051]\n",
      " [ 4.07634544  6.72248731  3.36014005]\n",
      " [ 2.4925152   3.32694051  4.26935359]]\n"
     ]
    }
   ],
   "source": [
    "import numpy as np\n",
    "matrix_it = np.random.randint(0, 8, (3, 3))\n",
    "matrix_fl = np.random.uniform(0, 8, (3, 3))\n",
    "print(matrix_it)\n",
    "print(matrix_fl)"
   ]
  },
  {
   "cell_type": "markdown",
   "metadata": {},
   "source": [
    "Найти индексы ненулевых элементов в [1,2,0,0,4,0]"
   ]
  },
  {
   "cell_type": "code",
   "execution_count": 18,
   "metadata": {
    "collapsed": true
   },
   "outputs": [
    {
     "name": "stdout",
     "output_type": "stream",
     "text": [
      "(array([0, 1, 4], dtype=int64),)\n"
     ]
    }
   ],
   "source": [
    "vec_non_zero = np.nonzero([1,2,0,0,4,0])\n",
    "print(vec_non_zero)"
   ]
  },
  {
   "cell_type": "markdown",
   "metadata": {},
   "source": [
    "Создать 3x3 единичную матрицу"
   ]
  },
  {
   "cell_type": "code",
   "execution_count": 6,
   "metadata": {
    "collapsed": true
   },
   "outputs": [
    {
     "name": "stdout",
     "output_type": "stream",
     "text": [
      "[[ 1.  0.  0.]\n",
      " [ 0.  1.  0.]\n",
      " [ 0.  0.  1.]]\n"
     ]
    }
   ],
   "source": [
    "matrix_one = np.eye(3,3)\n",
    "print(matrix_one)"
   ]
  },
  {
   "cell_type": "markdown",
   "metadata": {},
   "source": [
    "Создать массив 3x3x3 со случайными значениями"
   ]
  },
  {
   "cell_type": "code",
   "execution_count": 4,
   "metadata": {
    "collapsed": true
   },
   "outputs": [
    {
     "name": "stdout",
     "output_type": "stream",
     "text": [
      "[[[ 6.12295274  6.21903476  0.99245826]\n",
      "  [ 6.34638131  7.26755652  1.24479041]\n",
      "  [ 1.72683889  0.96471897  2.65146341]]\n",
      "\n",
      " [[ 0.94619987  0.69088543  5.84986174]\n",
      "  [ 4.62912513  1.51497682  6.71242961]\n",
      "  [ 0.61271555  0.35173725  5.77291565]]\n",
      "\n",
      " [[ 6.09076204  2.69353141  6.00350788]\n",
      "  [ 3.81584966  1.87485233  4.92862217]\n",
      "  [ 5.28536142  4.22076695  6.82211365]]]\n"
     ]
    }
   ],
   "source": [
    "import numpy as np\n",
    "matrix_fl = np.random.uniform(0, 8, (3, 3, 3))\n",
    "print(matrix_fl)"
   ]
  },
  {
   "cell_type": "markdown",
   "metadata": {},
   "source": [
    "Создать случайный вектор размера 30 и найти среднее значение всех элементов"
   ]
  },
  {
   "cell_type": "code",
   "execution_count": 17,
   "metadata": {
    "collapsed": true
   },
   "outputs": [
    {
     "name": "stdout",
     "output_type": "stream",
     "text": [
      "[ 0.88509294  0.90419762  0.0104217   0.07455674  0.24462921  0.13330475\n",
      "  0.6979251   0.39820488  0.88312219  0.18100751  0.43249917  0.0181432\n",
      "  0.69143786  0.46969065  0.12822219  0.89133705  0.91820362  0.07312099\n",
      "  0.04544794  0.4385729   0.60172093  0.31022703  0.68190824  0.20901315\n",
      "  0.5196043   0.56598883  0.44116739  0.13755616  0.21354319  0.13337189]\n",
      "0.411107978013\n"
     ]
    }
   ],
   "source": [
    "import numpy as np\n",
    "\n",
    "vec30 = np.random.random(30)\n",
    "print(vec30)\n",
    "print(vec30.mean())"
   ]
  },
  {
   "cell_type": "markdown",
   "metadata": {},
   "source": [
    "Перемножить матрицы 5x3 и 3x2"
   ]
  },
  {
   "cell_type": "code",
   "execution_count": 21,
   "metadata": {
    "collapsed": true
   },
   "outputs": [
    {
     "name": "stdout",
     "output_type": "stream",
     "text": [
      "[[5 4 4]\n",
      " [4 3 5]\n",
      " [4 2 1]\n",
      " [0 7 6]\n",
      " [0 1 6]] [[1 1]\n",
      " [6 5]\n",
      " [0 0]]\n",
      "[[29 25]\n",
      " [22 19]\n",
      " [16 14]\n",
      " [42 35]\n",
      " [ 6  5]]\n"
     ]
    }
   ],
   "source": [
    "import numpy as np\n",
    "m1 = np.random.randint(0, 8, (5, 3))\n",
    "m2 = np.random.randint(0, 8, (3, 2))\n",
    "print(m1,m2)\n",
    "print(m1.dot(m2))"
   ]
  },
  {
   "cell_type": "markdown",
   "metadata": {},
   "source": [
    "Создать вектор размера 10 со значениями от 0 до 1, не включая ни то, ни другое"
   ]
  },
  {
   "cell_type": "code",
   "execution_count": 26,
   "metadata": {},
   "outputs": [
    {
     "name": "stdout",
     "output_type": "stream",
     "text": [
      "[ 0.09090909  0.18181818  0.27272727  0.36363636  0.45454545  0.54545455\n",
      "  0.63636364  0.72727273  0.81818182  0.90909091]\n"
     ]
    }
   ],
   "source": [
    "vec10 = np.linspace(0,1,12)[1:-1]\n",
    "print(vec10)"
   ]
  },
  {
   "cell_type": "markdown",
   "metadata": {},
   "source": [
    "Заменить максимальный элемент на ноль"
   ]
  },
  {
   "cell_type": "code",
   "execution_count": 29,
   "metadata": {
    "collapsed": true
   },
   "outputs": [
    {
     "name": "stdout",
     "output_type": "stream",
     "text": [
      "0.909090909091\n"
     ]
    }
   ],
   "source": [
    "vec10[vec10.argmax()] = 0\n"
   ]
  },
  {
   "cell_type": "markdown",
   "metadata": {},
   "source": [
    "Преобразовать массив из float в int"
   ]
  },
  {
   "cell_type": "code",
   "execution_count": 2,
   "metadata": {},
   "outputs": [
    {
     "name": "stdout",
     "output_type": "stream",
     "text": [
      "[ 0.  1.  2.  3.  4.  5.  6.  7.  8.  9.]\n",
      "[0 1 2 3 4 5 6 7 8 9]\n"
     ]
    }
   ],
   "source": [
    "import numpy as np\n",
    "vec = np.arange(10, dtype=np.float32)\n",
    "print(vec)\n",
    "vec = vec.astype(np.int32, copy=False)\n",
    "print(vec)"
   ]
  },
  {
   "cell_type": "markdown",
   "metadata": {},
   "source": [
    "Дан массив (10,2) координат, найти расстояние от каждой точки до каждой"
   ]
  },
  {
   "cell_type": "code",
   "execution_count": 36,
   "metadata": {},
   "outputs": [
    {
     "name": "stdout",
     "output_type": "stream",
     "text": [
      "[[3 2]\n",
      " [0 4]\n",
      " [2 2]\n",
      " [2 4]\n",
      " [3 0]\n",
      " [0 0]\n",
      " [0 1]\n",
      " [2 3]\n",
      " [0 1]\n",
      " [1 1]]\n",
      "[[ 0.          3.60555128  1.          2.23606798  2.          3.60555128\n",
      "   3.16227766  1.41421356  3.16227766  2.23606798]\n",
      " [ 3.60555128  0.          2.82842712  2.          5.          4.          3.\n",
      "   2.23606798  3.          3.16227766]\n",
      " [ 1.          2.82842712  0.          2.          2.23606798  2.82842712\n",
      "   2.23606798  1.          2.23606798  1.41421356]\n",
      " [ 2.23606798  2.          2.          0.          4.12310563  4.47213595\n",
      "   3.60555128  1.          3.60555128  3.16227766]\n",
      " [ 2.          5.          2.23606798  4.12310563  0.          3.\n",
      "   3.16227766  3.16227766  3.16227766  2.23606798]\n",
      " [ 3.60555128  4.          2.82842712  4.47213595  3.          0.          1.\n",
      "   3.60555128  1.          1.41421356]\n",
      " [ 3.16227766  3.          2.23606798  3.60555128  3.16227766  1.          0.\n",
      "   2.82842712  0.          1.        ]\n",
      " [ 1.41421356  2.23606798  1.          1.          3.16227766  3.60555128\n",
      "   2.82842712  0.          2.82842712  2.23606798]\n",
      " [ 3.16227766  3.          2.23606798  3.60555128  3.16227766  1.          0.\n",
      "   2.82842712  0.          1.        ]\n",
      " [ 2.23606798  3.16227766  1.41421356  3.16227766  2.23606798  1.41421356\n",
      "   1.          2.23606798  1.          0.        ]]\n",
      "\n",
      " ******************************************** \n",
      "\n",
      "[[ 0.          3.60555128  1.          2.23606798  2.          3.60555128\n",
      "   3.16227766  1.41421356  3.16227766  2.23606798]\n",
      " [ 3.60555128  0.          2.82842712  2.          5.          4.          3.\n",
      "   2.23606798  3.          3.16227766]\n",
      " [ 1.          2.82842712  0.          2.          2.23606798  2.82842712\n",
      "   2.23606798  1.          2.23606798  1.41421356]\n",
      " [ 2.23606798  2.          2.          0.          4.12310563  4.47213595\n",
      "   3.60555128  1.          3.60555128  3.16227766]\n",
      " [ 2.          5.          2.23606798  4.12310563  0.          3.\n",
      "   3.16227766  3.16227766  3.16227766  2.23606798]\n",
      " [ 3.60555128  4.          2.82842712  4.47213595  3.          0.          1.\n",
      "   3.60555128  1.          1.41421356]\n",
      " [ 3.16227766  3.          2.23606798  3.60555128  3.16227766  1.          0.\n",
      "   2.82842712  0.          1.        ]\n",
      " [ 1.41421356  2.23606798  1.          1.          3.16227766  3.60555128\n",
      "   2.82842712  0.          2.82842712  2.23606798]\n",
      " [ 3.16227766  3.          2.23606798  3.60555128  3.16227766  1.          0.\n",
      "   2.82842712  0.          1.        ]\n",
      " [ 2.23606798  3.16227766  1.41421356  3.16227766  2.23606798  1.41421356\n",
      "   1.          2.23606798  1.          0.        ]]\n"
     ]
    }
   ],
   "source": [
    "import scipy.spatial\n",
    "from sklearn.metrics.pairwise import euclidean_distances\n",
    "\n",
    "M = np.random.randint(0, 5, (10, 2))\n",
    "print(M)\n",
    "scipy_D = scipy.spatial.distance.cdist(M,M)\n",
    "sciln_D = euclidean_distances(M,M) \n",
    "print(scipy_D)\n",
    "print('\\n','********************************************', '\\n')\n",
    "print(sciln_D)"
   ]
  },
  {
   "cell_type": "markdown",
   "metadata": {},
   "source": [
    "Случайно расположить p элементов в 2D массив"
   ]
  },
  {
   "cell_type": "code",
   "execution_count": 48,
   "metadata": {
    "collapsed": true
   },
   "outputs": [
    {
     "name": "stdout",
     "output_type": "stream",
     "text": [
      "[[  0.   0.  68.   0.   0.   0.   0.   0.   0.   0.]\n",
      " [  0.  68.   0.   0.   0.   0.   0.   0.   0.   0.]\n",
      " [  0.   0.   0.   0.   0.   0.   0.   0.   0.   0.]\n",
      " [  0.   0.   0.   0.   0.   0.   0.   0.   0.   0.]\n",
      " [  0.   0.   0.   0.   0.   0.   0.   0.   0.   0.]\n",
      " [  0.   0.   0.   0.   0.   0.   0.   0.   0.   0.]\n",
      " [  0.   0.   0.   0.   0.   0.   0.   0.   0.   0.]\n",
      " [  0.   0.   0.   0.   0.   0.   0.  68.   0.   0.]\n",
      " [  0.   0.   0.   0.   0.   0.   0.   0.   0.   0.]\n",
      " [  0.   0.   0.   0.   0.   0.   0.   0.   0.   0.]]\n",
      "\n",
      "********************** Вариант 2 ******************************\n",
      "\n",
      "[[  0.   0.   0.   0.   0.   0.   0.   0.   0.   0.]\n",
      " [  0.   0.   0.   0.   0.   0.   0.   0.   0.   0.]\n",
      " [  0.   0.   0.   0.   0.   0.   0.   0.   0.   0.]\n",
      " [  0.   0.   0.   0.   0.   0.   0.   0.   0.   0.]\n",
      " [  0.   0.   0.   0.   0.   0.   0.   0.  97.   0.]\n",
      " [  0.   0.   0.   0.   0.  88.   0.   0.   0.   0.]\n",
      " [  0.   0.   0.   0.   0.   0.   0.   0.   0.   0.]\n",
      " [  0.   0.   0.   0.   0.   0.   0.   0.   0.   0.]\n",
      " [  0.   0.   0.   0.   0.   0.   0.   0.   0.   0.]\n",
      " [  0.   0.   0.   0.   0.   0.   0.   0.   0.  14.]]\n"
     ]
    }
   ],
   "source": [
    "import numpy as np\n",
    "import random\n",
    "n = 10\n",
    "p = 3\n",
    "a = np.random.choice(range(n*n), 1, replace=False)\n",
    "M = np.zeros((n,n))\n",
    "A = np.put(M, np.random.choice(range(n*n), p, replace=False), a)\n",
    "print(M)\n",
    "\n",
    "print('\\n'+'********************** Вариант 2 ******************************'+ '\\n')\n",
    "\n",
    "M = np.zeros((n,n))\n",
    "a = np.random.choice(range(n*n), p, replace=False)\n",
    "np.put(M, range(p), a)\n",
    "M.shape = (1,n*n)\n",
    "A = np.random.shuffle(M[0])\n",
    "M.shape = (n,n)\n",
    "print(M)"
   ]
  },
  {
   "cell_type": "markdown",
   "metadata": {},
   "source": [
    "Дан вектор [1, 2, 3, 4, 5], построить новый вектор с тремя нулями между каждым значением"
   ]
  },
  {
   "cell_type": "code",
   "execution_count": 52,
   "metadata": {
    "collapsed": true
   },
   "outputs": [
    {
     "name": "stdout",
     "output_type": "stream",
     "text": [
      "[ 0.  0.  0.  0.  0.  0.  0.  0.  0.  0.  0.  0.  0.  0.  0.  0.  0.]\n",
      "[ 1.  0.  0.  0.  2.  0.  0.  0.  3.  0.  0.  0.  4.  0.  0.  0.  5.]\n"
     ]
    }
   ],
   "source": [
    "import numpy as np\n",
    "\n",
    "n = 3\n",
    "vec = [1, 2, 3, 4, 5]\n",
    "new_vec = np.zeros((len(vec)-1)*n+len(vec))\n",
    "print(new_vec)\n",
    "new_vec[::n+1] = vec\n",
    "print(new_vec)\n",
    "\n"
   ]
  },
  {
   "cell_type": "markdown",
   "metadata": {},
   "source": [
    "Найти наиболее частое значение в массиве"
   ]
  },
  {
   "cell_type": "code",
   "execution_count": 13,
   "metadata": {},
   "outputs": [
    {
     "name": "stdout",
     "output_type": "stream",
     "text": [
      "[53 12 23 11 93  3 12 49 31 19 67 66 80 36 38 39 21 23 43 73 29 23 93 98 31\n",
      " 35 23 68  7 32 42 74 31 79 43 86 30 94  0 40 24 29 66  9 45  8 48 72 61 91\n",
      " 76  4 59 86 91 44 31 38 89 85 91 76 97 52 76  0 82 48 43 69 16 49 38 82  0\n",
      " 23 38 70 38 36 47 63 38 11 25 68 47 56 16 22 10  3 50  6  4 82 92 68 12 25]\n",
      "38\n"
     ]
    }
   ],
   "source": [
    "import numpy as np\n",
    "\n",
    "vec = np.random.randint(0,100,100)\n",
    "print(vec)\n",
    "print(np.bincount(vec).argmax())\n"
   ]
  },
  {
   "cell_type": "markdown",
   "metadata": {},
   "source": [
    "Найти n наибольших значений в массиве"
   ]
  },
  {
   "cell_type": "code",
   "execution_count": 23,
   "metadata": {},
   "outputs": [
    {
     "name": "stdout",
     "output_type": "stream",
     "text": [
      "[66 28 80 77 78 20 32 27 99 81  8 40 18 73 19 96 42 49 23 71 63 50 93 19 70\n",
      " 69 65 13 37 59 56 69 11 73 82 55 62  1  3 10 58 86  6  1 58 37 56 56 38 26\n",
      " 56 80 79 50 24 38  1 30 77 20 89 28 22 36 95 32 84 24 98 83 14 22 77 17 94\n",
      " 36  6 21 60 79 12 97 86 29 52 68 60 57 36 58  5 66 16 27 62 17 24 35 82 46]\n",
      "[ 1  1  1  3  5  6  6  8 10 11 12 13 14 16 17 17 18 19 19 20 20 21 22 22 23\n",
      " 24 24 24 26 27 27 28 28 29 30 32 32 35 36 36 36 37 37 38 38 40 42 46 49 50\n",
      " 50 52 55 56 56 56 56 57 58 58 58 59 60 60 62 62 63 65 66 66 68 69 69 70 71\n",
      " 73 73 77 77 77 78 79 79 80 80 81 82 82 83 84 86 86 89 93 94 95 96 97 98 99]\n",
      "[95 96 97 98 99]\n"
     ]
    }
   ],
   "source": [
    "import numpy as np\n",
    "\n",
    "n=5\n",
    "vec = np.random.randint(0,100,100)\n",
    "print(vec)\n",
    "vec.sort()\n",
    "print(vec)\n",
    "l = len(vec)\n",
    "print(vec[l-n:l])\n"
   ]
  },
  {
   "cell_type": "markdown",
   "metadata": {},
   "source": [
    "## Pandas - изучение данных"
   ]
  },
  {
   "cell_type": "markdown",
   "metadata": {},
   "source": [
    "Перейти по ссылке [Kaggle]( https://www.kaggle.com/openfoodfacts/world-food-facts)"
   ]
  },
  {
   "cell_type": "markdown",
   "metadata": {},
   "source": [
    "Скачать датасет на свой компьютер и распаковать"
   ]
  },
  {
   "cell_type": "markdown",
   "metadata": {},
   "source": [
    "Считать csv файл в датафрейм food\n",
    "(jupyter notebook --NotebookApp.iopub_data_rate_limit=1.0e10)\n",
    "или\n",
    "C:\\Users\\User\\.jupyter\\jupyter_notebook_config.py"
   ]
  },
  {
   "cell_type": "code",
   "execution_count": 1,
   "metadata": {},
   "outputs": [],
   "source": [
    "import pandas as pd\n",
    "pd.set_option('display.max_rows',5)\n",
    "\n",
    "#pd.set_option('display.max_columns',5)\n",
    "food = pd.read_csv('en.openfoodfacts.org.products.tsv', lineterminator='\\n',error_bad_lines=False, sep=\"\\t\", low_memory=False)"
   ]
  },
  {
   "cell_type": "markdown",
   "metadata": {},
   "source": [
    "Посмотреть первые 5 записей"
   ]
  },
  {
   "cell_type": "code",
   "execution_count": 2,
   "metadata": {},
   "outputs": [
    {
     "name": "stdout",
     "output_type": "stream",
     "text": [
      "            code                                                url  \\\n",
      "0  0000000003087  http://world-en.openfoodfacts.org/product/0000...   \n",
      "1  0000000004530  http://world-en.openfoodfacts.org/product/0000...   \n",
      "2  0000000004559  http://world-en.openfoodfacts.org/product/0000...   \n",
      "3  0000000016087  http://world-en.openfoodfacts.org/product/0000...   \n",
      "4  0000000016094  http://world-en.openfoodfacts.org/product/0000...   \n",
      "\n",
      "                      creator   created_t      created_datetime  \\\n",
      "0  openfoodfacts-contributors  1474103866  2016-09-17T09:17:46Z   \n",
      "1             usda-ndb-import  1489069957  2017-03-09T14:32:37Z   \n",
      "2             usda-ndb-import  1489069957  2017-03-09T14:32:37Z   \n",
      "3             usda-ndb-import  1489055731  2017-03-09T10:35:31Z   \n",
      "4             usda-ndb-import  1489055653  2017-03-09T10:34:13Z   \n",
      "\n",
      "   last_modified_t last_modified_datetime                    product_name  \\\n",
      "0       1474103893   2016-09-17T09:18:13Z              Farine de blé noir   \n",
      "1       1489069957   2017-03-09T14:32:37Z  Banana Chips Sweetened (Whole)   \n",
      "2       1489069957   2017-03-09T14:32:37Z                         Peanuts   \n",
      "3       1489055731   2017-03-09T10:35:31Z          Organic Salted Nut Mix   \n",
      "4       1489055653   2017-03-09T10:34:13Z                 Organic Polenta   \n",
      "\n",
      "  generic_name quantity         ...         fruits-vegetables-nuts_100g  \\\n",
      "0          NaN      1kg         ...                                 NaN   \n",
      "1          NaN      NaN         ...                                 NaN   \n",
      "2          NaN      NaN         ...                                 NaN   \n",
      "3          NaN      NaN         ...                                 NaN   \n",
      "4          NaN      NaN         ...                                 NaN   \n",
      "\n",
      "  fruits-vegetables-nuts-estimate_100g collagen-meat-protein-ratio_100g  \\\n",
      "0                                  NaN                              NaN   \n",
      "1                                  NaN                              NaN   \n",
      "2                                  NaN                              NaN   \n",
      "3                                  NaN                              NaN   \n",
      "4                                  NaN                              NaN   \n",
      "\n",
      "  cocoa_100g chlorophyl_100g carbon-footprint_100g nutrition-score-fr_100g  \\\n",
      "0        NaN             NaN                   NaN                     NaN   \n",
      "1        NaN             NaN                   NaN                    14.0   \n",
      "2        NaN             NaN                   NaN                     0.0   \n",
      "3        NaN             NaN                   NaN                    12.0   \n",
      "4        NaN             NaN                   NaN                     NaN   \n",
      "\n",
      "  nutrition-score-uk_100g glycemic-index_100g water-hardness_100g  \n",
      "0                     NaN                 NaN                 NaN  \n",
      "1                    14.0                 NaN                 NaN  \n",
      "2                     0.0                 NaN                 NaN  \n",
      "3                    12.0                 NaN                 NaN  \n",
      "4                     NaN                 NaN                 NaN  \n",
      "\n",
      "[5 rows x 163 columns]\n"
     ]
    }
   ],
   "source": [
    "#handle = open(\"en.openfoodfacts.org.products.csv\", \"r\")\n",
    "#for number in range(5):\n",
    "    #data = handle.readline() # read just one line\n",
    "    #print(data)\n",
    "#handle.close()\n",
    "print(food.head(5))\n"
   ]
  },
  {
   "cell_type": "markdown",
   "metadata": {},
   "source": [
    "Сколько наблюдений в наборе данных?\n"
   ]
  },
  {
   "cell_type": "code",
   "execution_count": 5,
   "metadata": {},
   "outputs": [
    {
     "name": "stdout",
     "output_type": "stream",
     "text": [
      "356001\n"
     ]
    }
   ],
   "source": [
    "print(food.shape[0])"
   ]
  },
  {
   "cell_type": "markdown",
   "metadata": {},
   "source": [
    "Сколько столбцов в наборе данных?"
   ]
  },
  {
   "cell_type": "code",
   "execution_count": 6,
   "metadata": {},
   "outputs": [
    {
     "name": "stdout",
     "output_type": "stream",
     "text": [
      "163\n"
     ]
    }
   ],
   "source": [
    "print(food.shape[1])"
   ]
  },
  {
   "cell_type": "markdown",
   "metadata": {},
   "source": [
    "Напечатайте все названия столбцов"
   ]
  },
  {
   "cell_type": "code",
   "execution_count": 12,
   "metadata": {},
   "outputs": [
    {
     "name": "stdout",
     "output_type": "stream",
     "text": [
      "['code', 'url', 'creator', 'created_t', 'created_datetime', 'last_modified_t', 'last_modified_datetime', 'product_name', 'generic_name', 'quantity', 'packaging', 'packaging_tags', 'brands', 'brands_tags', 'categories', 'categories_tags', 'categories_en', 'origins', 'origins_tags', 'manufacturing_places', 'manufacturing_places_tags', 'labels', 'labels_tags', 'labels_en', 'emb_codes', 'emb_codes_tags', 'first_packaging_code_geo', 'cities', 'cities_tags', 'purchase_places', 'stores', 'countries', 'countries_tags', 'countries_en', 'ingredients_text', 'allergens', 'allergens_en', 'traces', 'traces_tags', 'traces_en', 'serving_size', 'no_nutriments', 'additives_n', 'additives', 'additives_tags', 'additives_en', 'ingredients_from_palm_oil_n', 'ingredients_from_palm_oil', 'ingredients_from_palm_oil_tags', 'ingredients_that_may_be_from_palm_oil_n', 'ingredients_that_may_be_from_palm_oil', 'ingredients_that_may_be_from_palm_oil_tags', 'nutrition_grade_uk', 'nutrition_grade_fr', 'pnns_groups_1', 'pnns_groups_2', 'states', 'states_tags', 'states_en', 'main_category', 'main_category_en', 'image_url', 'image_small_url', 'energy_100g', 'energy-from-fat_100g', 'fat_100g', 'saturated-fat_100g', '-butyric-acid_100g', '-caproic-acid_100g', '-caprylic-acid_100g', '-capric-acid_100g', '-lauric-acid_100g', '-myristic-acid_100g', '-palmitic-acid_100g', '-stearic-acid_100g', '-arachidic-acid_100g', '-behenic-acid_100g', '-lignoceric-acid_100g', '-cerotic-acid_100g', '-montanic-acid_100g', '-melissic-acid_100g', 'monounsaturated-fat_100g', 'polyunsaturated-fat_100g', 'omega-3-fat_100g', '-alpha-linolenic-acid_100g', '-eicosapentaenoic-acid_100g', '-docosahexaenoic-acid_100g', 'omega-6-fat_100g', '-linoleic-acid_100g', '-arachidonic-acid_100g', '-gamma-linolenic-acid_100g', '-dihomo-gamma-linolenic-acid_100g', 'omega-9-fat_100g', '-oleic-acid_100g', '-elaidic-acid_100g', '-gondoic-acid_100g', '-mead-acid_100g', '-erucic-acid_100g', '-nervonic-acid_100g', 'trans-fat_100g', 'cholesterol_100g', 'carbohydrates_100g', 'sugars_100g', '-sucrose_100g', '-glucose_100g', '-fructose_100g', '-lactose_100g', '-maltose_100g', '-maltodextrins_100g', 'starch_100g', 'polyols_100g', 'fiber_100g', 'proteins_100g', 'casein_100g', 'serum-proteins_100g', 'nucleotides_100g', 'salt_100g', 'sodium_100g', 'alcohol_100g', 'vitamin-a_100g', 'beta-carotene_100g', 'vitamin-d_100g', 'vitamin-e_100g', 'vitamin-k_100g', 'vitamin-c_100g', 'vitamin-b1_100g', 'vitamin-b2_100g', 'vitamin-pp_100g', 'vitamin-b6_100g', 'vitamin-b9_100g', 'folates_100g', 'vitamin-b12_100g', 'biotin_100g', 'pantothenic-acid_100g', 'silica_100g', 'bicarbonate_100g', 'potassium_100g', 'chloride_100g', 'calcium_100g', 'phosphorus_100g', 'iron_100g', 'magnesium_100g', 'zinc_100g', 'copper_100g', 'manganese_100g', 'fluoride_100g', 'selenium_100g', 'chromium_100g', 'molybdenum_100g', 'iodine_100g', 'caffeine_100g', 'taurine_100g', 'ph_100g', 'fruits-vegetables-nuts_100g', 'fruits-vegetables-nuts-estimate_100g', 'collagen-meat-protein-ratio_100g', 'cocoa_100g', 'chlorophyl_100g', 'carbon-footprint_100g', 'nutrition-score-fr_100g', 'nutrition-score-uk_100g', 'glycemic-index_100g', 'water-hardness_100g']\n",
      "['code', 'url', 'creator', 'created_t', 'created_datetime', 'last_modified_t', 'last_modified_datetime', 'product_name', 'generic_name', 'quantity', 'packaging', 'packaging_tags', 'brands', 'brands_tags', 'categories', 'categories_tags', 'categories_en', 'origins', 'origins_tags', 'manufacturing_places', 'manufacturing_places_tags', 'labels', 'labels_tags', 'labels_en', 'emb_codes', 'emb_codes_tags', 'first_packaging_code_geo', 'cities', 'cities_tags', 'purchase_places', 'stores', 'countries', 'countries_tags', 'countries_en', 'ingredients_text', 'allergens', 'allergens_en', 'traces', 'traces_tags', 'traces_en', 'serving_size', 'no_nutriments', 'additives_n', 'additives', 'additives_tags', 'additives_en', 'ingredients_from_palm_oil_n', 'ingredients_from_palm_oil', 'ingredients_from_palm_oil_tags', 'ingredients_that_may_be_from_palm_oil_n', 'ingredients_that_may_be_from_palm_oil', 'ingredients_that_may_be_from_palm_oil_tags', 'nutrition_grade_uk', 'nutrition_grade_fr', 'pnns_groups_1', 'pnns_groups_2', 'states', 'states_tags', 'states_en', 'main_category', 'main_category_en', 'image_url', 'image_small_url', 'energy_100g', 'energy-from-fat_100g', 'fat_100g', 'saturated-fat_100g', '-butyric-acid_100g', '-caproic-acid_100g', '-caprylic-acid_100g', '-capric-acid_100g', '-lauric-acid_100g', '-myristic-acid_100g', '-palmitic-acid_100g', '-stearic-acid_100g', '-arachidic-acid_100g', '-behenic-acid_100g', '-lignoceric-acid_100g', '-cerotic-acid_100g', '-montanic-acid_100g', '-melissic-acid_100g', 'monounsaturated-fat_100g', 'polyunsaturated-fat_100g', 'omega-3-fat_100g', '-alpha-linolenic-acid_100g', '-eicosapentaenoic-acid_100g', '-docosahexaenoic-acid_100g', 'omega-6-fat_100g', '-linoleic-acid_100g', '-arachidonic-acid_100g', '-gamma-linolenic-acid_100g', '-dihomo-gamma-linolenic-acid_100g', 'omega-9-fat_100g', '-oleic-acid_100g', '-elaidic-acid_100g', '-gondoic-acid_100g', '-mead-acid_100g', '-erucic-acid_100g', '-nervonic-acid_100g', 'trans-fat_100g', 'cholesterol_100g', 'carbohydrates_100g', 'sugars_100g', '-sucrose_100g', '-glucose_100g', '-fructose_100g', '-lactose_100g', '-maltose_100g', '-maltodextrins_100g', 'starch_100g', 'polyols_100g', 'fiber_100g', 'proteins_100g', 'casein_100g', 'serum-proteins_100g', 'nucleotides_100g', 'salt_100g', 'sodium_100g', 'alcohol_100g', 'vitamin-a_100g', 'beta-carotene_100g', 'vitamin-d_100g', 'vitamin-e_100g', 'vitamin-k_100g', 'vitamin-c_100g', 'vitamin-b1_100g', 'vitamin-b2_100g', 'vitamin-pp_100g', 'vitamin-b6_100g', 'vitamin-b9_100g', 'folates_100g', 'vitamin-b12_100g', 'biotin_100g', 'pantothenic-acid_100g', 'silica_100g', 'bicarbonate_100g', 'potassium_100g', 'chloride_100g', 'calcium_100g', 'phosphorus_100g', 'iron_100g', 'magnesium_100g', 'zinc_100g', 'copper_100g', 'manganese_100g', 'fluoride_100g', 'selenium_100g', 'chromium_100g', 'molybdenum_100g', 'iodine_100g', 'caffeine_100g', 'taurine_100g', 'ph_100g', 'fruits-vegetables-nuts_100g', 'fruits-vegetables-nuts-estimate_100g', 'collagen-meat-protein-ratio_100g', 'cocoa_100g', 'chlorophyl_100g', 'carbon-footprint_100g', 'nutrition-score-fr_100g', 'nutrition-score-uk_100g', 'glycemic-index_100g', 'water-hardness_100g']\n"
     ]
    }
   ],
   "source": [
    "print(food.columns.values.tolist())\n",
    "print(list(food))"
   ]
  },
  {
   "cell_type": "markdown",
   "metadata": {},
   "source": [
    "Какое название у 105 столбца?"
   ]
  },
  {
   "cell_type": "code",
   "execution_count": 3,
   "metadata": {},
   "outputs": [
    {
     "data": {
      "text/plain": [
       "'-glucose_100g'"
      ]
     },
     "execution_count": 3,
     "metadata": {},
     "output_type": "execute_result"
    }
   ],
   "source": [
    "food.columns.values.tolist()[104]"
   ]
  },
  {
   "cell_type": "markdown",
   "metadata": {},
   "source": [
    "Какой тип наблюдений в 105 столбце?"
   ]
  },
  {
   "cell_type": "code",
   "execution_count": 4,
   "metadata": {},
   "outputs": [
    {
     "data": {
      "text/plain": [
       "dtype('float64')"
      ]
     },
     "execution_count": 4,
     "metadata": {},
     "output_type": "execute_result"
    }
   ],
   "source": [
    "food.dtypes[104]"
   ]
  },
  {
   "cell_type": "markdown",
   "metadata": {},
   "source": [
    "Как проиндексирован набор данных?"
   ]
  },
  {
   "cell_type": "code",
   "execution_count": 22,
   "metadata": {},
   "outputs": [
    {
     "name": "stdout",
     "output_type": "stream",
     "text": [
      "RangeIndex(start=0, stop=356001, step=1)\n"
     ]
    }
   ],
   "source": [
    "print(food.index)"
   ]
  },
  {
   "cell_type": "markdown",
   "metadata": {},
   "source": [
    "Каково значение имени продукта в 19-м наблюдении?"
   ]
  },
  {
   "cell_type": "code",
   "execution_count": 18,
   "metadata": {},
   "outputs": [
    {
     "name": "stdout",
     "output_type": "stream",
     "text": [
      "19    Organic Oat Groats\n",
      "Name: product_name, dtype: object\n"
     ]
    }
   ],
   "source": [
    "print(food[19:20]['product_name'])"
   ]
  },
  {
   "cell_type": "markdown",
   "metadata": {},
   "source": [
    "## Pandas - фильтрация данных"
   ]
  },
  {
   "cell_type": "markdown",
   "metadata": {},
   "source": [
    "Считать данные по  [адресу](https://raw.githubusercontent.com/justmarkham/DAT8/master/data/chipotle.tsv). \n",
    "Присвоить переменной chipo"
   ]
  },
  {
   "cell_type": "code",
   "execution_count": 97,
   "metadata": {},
   "outputs": [
    {
     "name": "stdout",
     "output_type": "stream",
     "text": [
      "    order_id  quantity                     item_name  \\\n",
      "0          1         1  Chips and Fresh Tomato Salsa   \n",
      "1          1         1                          Izze   \n",
      "..       ...       ...                           ...   \n",
      "8          4         1              Steak Soft Tacos   \n",
      "9          5         1                 Steak Burrito   \n",
      "\n",
      "                                   choice_description item_price  \n",
      "0                                                 NaN     $2.39   \n",
      "1                                        [Clementine]     $3.39   \n",
      "..                                                ...        ...  \n",
      "8   [Tomatillo Green Chili Salsa, [Pinto Beans, Ch...     $9.25   \n",
      "9   [Fresh Tomato Salsa, [Rice, Black Beans, Pinto...     $9.25   \n",
      "\n",
      "[10 rows x 5 columns]\n",
      "object\n"
     ]
    }
   ],
   "source": [
    "import urllib.request\n",
    "import pandas as pd\n",
    "url = \"https://raw.githubusercontent.com/justmarkham/DAT8/master/data/chipotle.tsv\"\n",
    "urllib.request.urlretrieve(url, 'chipotle.tsv')\n",
    "\n",
    "pd.set_option('display.max_rows',5)\n",
    "chipo = pd.read_csv('chipotle.tsv',error_bad_lines=False, sep=\"\\t\")\n",
    "print(chipo.head(10))\n",
    "print(chipo.dtypes[4])"
   ]
  },
  {
   "cell_type": "markdown",
   "metadata": {},
   "source": [
    "Как много продуктов стоят более чем $10.00?"
   ]
  },
  {
   "cell_type": "code",
   "execution_count": 98,
   "metadata": {},
   "outputs": [
    {
     "name": "stdout",
     "output_type": "stream",
     "text": [
      "      order_id  quantity           item_name  \\\n",
      "4            2         2        Chicken Bowl   \n",
      "5            3         1        Chicken Bowl   \n",
      "...        ...       ...                 ...   \n",
      "4618      1833         1       Steak Burrito   \n",
      "4619      1834         1  Chicken Salad Bowl   \n",
      "\n",
      "                                     choice_description  item_price  \n",
      "4     [Tomatillo-Red Chili Salsa (Hot), [Black Beans...       16.98  \n",
      "5     [Fresh Tomato Salsa (Mild), [Rice, Cheese, Sou...       10.98  \n",
      "...                                                 ...         ...  \n",
      "4618  [Fresh Tomato Salsa, [Rice, Sour Cream, Cheese...       11.75  \n",
      "4619  [Fresh Tomato Salsa, [Fajita Vegetables, Pinto...       11.25  \n",
      "\n",
      "[1130 rows x 5 columns]\n"
     ]
    }
   ],
   "source": [
    "chipo[['item_price']] = chipo.item_price.str.replace(r\"\\$\", r\"\", True).astype('float32')\n",
    "print(chipo[chipo.item_price > 10])"
   ]
  },
  {
   "cell_type": "markdown",
   "metadata": {},
   "source": [
    "Какова цена каждого предмета? Напечатать столбцы item_name и item_price"
   ]
  },
  {
   "cell_type": "code",
   "execution_count": 99,
   "metadata": {},
   "outputs": [
    {
     "name": "stdout",
     "output_type": "stream",
     "text": [
      "                         item_name  item_price\n",
      "0     Chips and Fresh Tomato Salsa        2.39\n",
      "1                             Izze        3.39\n",
      "...                            ...         ...\n",
      "4620            Chicken Salad Bowl        8.75\n",
      "4621            Chicken Salad Bowl        8.75\n",
      "\n",
      "[4622 rows x 2 columns]\n"
     ]
    }
   ],
   "source": [
    "\n",
    "print(chipo[['item_name','item_price']])\n"
   ]
  },
  {
   "cell_type": "markdown",
   "metadata": {},
   "source": [
    "Отсортировать по имени предмета"
   ]
  },
  {
   "cell_type": "code",
   "execution_count": 1,
   "metadata": {},
   "outputs": [
    {
     "name": "stdout",
     "output_type": "stream",
     "text": [
      "      order_id  quantity                              item_name  \\\n",
      "0            1         1           Chips and Fresh Tomato Salsa   \n",
      "1            1         1                                   Izze   \n",
      "2            1         1                       Nantucket Nectar   \n",
      "3            1         1  Chips and Tomatillo-Green Chili Salsa   \n",
      "4            2         2                           Chicken Bowl   \n",
      "5            3         1                           Chicken Bowl   \n",
      "6            3         1                          Side of Chips   \n",
      "7            4         1                          Steak Burrito   \n",
      "8            4         1                       Steak Soft Tacos   \n",
      "9            5         1                          Steak Burrito   \n",
      "10           5         1                    Chips and Guacamole   \n",
      "11           6         1                   Chicken Crispy Tacos   \n",
      "12           6         1                     Chicken Soft Tacos   \n",
      "13           7         1                           Chicken Bowl   \n",
      "14           7         1                    Chips and Guacamole   \n",
      "15           8         1  Chips and Tomatillo-Green Chili Salsa   \n",
      "16           8         1                        Chicken Burrito   \n",
      "17           9         1                        Chicken Burrito   \n",
      "18           9         2                            Canned Soda   \n",
      "19          10         1                           Chicken Bowl   \n",
      "20          10         1                    Chips and Guacamole   \n",
      "21          11         1                       Barbacoa Burrito   \n",
      "22          11         1                       Nantucket Nectar   \n",
      "23          12         1                        Chicken Burrito   \n",
      "24          12         1                                   Izze   \n",
      "25          13         1           Chips and Fresh Tomato Salsa   \n",
      "26          13         1                           Chicken Bowl   \n",
      "27          14         1                       Carnitas Burrito   \n",
      "28          14         1                            Canned Soda   \n",
      "29          15         1                        Chicken Burrito   \n",
      "...        ...       ...                                    ...   \n",
      "4592      1825         1                       Barbacoa Burrito   \n",
      "4593      1825         1                          Carnitas Bowl   \n",
      "4594      1825         1                          Barbacoa Bowl   \n",
      "4595      1826         1                           Chicken Bowl   \n",
      "4596      1826         1                    Chips and Guacamole   \n",
      "4597      1826         1                      Canned Soft Drink   \n",
      "4598      1826         1                          Bottled Water   \n",
      "4599      1827         1                           Chicken Bowl   \n",
      "4600      1827         1                    Chips and Guacamole   \n",
      "4601      1827         1                      Canned Soft Drink   \n",
      "4602      1827         1                       Barbacoa Burrito   \n",
      "4603      1827         1                       Barbacoa Burrito   \n",
      "4604      1828         1                           Chicken Bowl   \n",
      "4605      1828         1                    Chips and Guacamole   \n",
      "4606      1828         1                      Canned Soft Drink   \n",
      "4607      1829         1                          Steak Burrito   \n",
      "4608      1829         1                         Veggie Burrito   \n",
      "4609      1829         1                      Canned Soft Drink   \n",
      "4610      1830         1                          Steak Burrito   \n",
      "4611      1830         1                         Veggie Burrito   \n",
      "4612      1831         1                          Carnitas Bowl   \n",
      "4613      1831         1                                  Chips   \n",
      "4614      1831         1                          Bottled Water   \n",
      "4615      1832         1                     Chicken Soft Tacos   \n",
      "4616      1832         1                    Chips and Guacamole   \n",
      "4617      1833         1                          Steak Burrito   \n",
      "4618      1833         1                          Steak Burrito   \n",
      "4619      1834         1                     Chicken Salad Bowl   \n",
      "4620      1834         1                     Chicken Salad Bowl   \n",
      "4621      1834         1                     Chicken Salad Bowl   \n",
      "\n",
      "                                     choice_description item_price  \n",
      "0                                                   NaN     $2.39   \n",
      "1                                          [Clementine]     $3.39   \n",
      "2                                               [Apple]     $3.39   \n",
      "3                                                   NaN     $2.39   \n",
      "4     [Tomatillo-Red Chili Salsa (Hot), [Black Beans...    $16.98   \n",
      "5     [Fresh Tomato Salsa (Mild), [Rice, Cheese, Sou...    $10.98   \n",
      "6                                                   NaN     $1.69   \n",
      "7     [Tomatillo Red Chili Salsa, [Fajita Vegetables...    $11.75   \n",
      "8     [Tomatillo Green Chili Salsa, [Pinto Beans, Ch...     $9.25   \n",
      "9     [Fresh Tomato Salsa, [Rice, Black Beans, Pinto...     $9.25   \n",
      "10                                                  NaN     $4.45   \n",
      "11    [Roasted Chili Corn Salsa, [Fajita Vegetables,...     $8.75   \n",
      "12    [Roasted Chili Corn Salsa, [Rice, Black Beans,...     $8.75   \n",
      "13    [Fresh Tomato Salsa, [Fajita Vegetables, Rice,...    $11.25   \n",
      "14                                                  NaN     $4.45   \n",
      "15                                                  NaN     $2.39   \n",
      "16    [Tomatillo-Green Chili Salsa (Medium), [Pinto ...     $8.49   \n",
      "17    [Fresh Tomato Salsa (Mild), [Black Beans, Rice...     $8.49   \n",
      "18                                             [Sprite]     $2.18   \n",
      "19    [Tomatillo Red Chili Salsa, [Fajita Vegetables...     $8.75   \n",
      "20                                                  NaN     $4.45   \n",
      "21    [[Fresh Tomato Salsa (Mild), Tomatillo-Green C...     $8.99   \n",
      "22                                 [Pomegranate Cherry]     $3.39   \n",
      "23    [[Tomatillo-Green Chili Salsa (Medium), Tomati...    $10.98   \n",
      "24                                         [Grapefruit]     $3.39   \n",
      "25                                                  NaN     $2.39   \n",
      "26    [Roasted Chili Corn Salsa (Medium), [Pinto Bea...     $8.49   \n",
      "27    [[Tomatillo-Green Chili Salsa (Medium), Roaste...     $8.99   \n",
      "28                                         [Dr. Pepper]     $1.09   \n",
      "29    [Tomatillo-Green Chili Salsa (Medium), [Pinto ...     $8.49   \n",
      "...                                                 ...        ...  \n",
      "4592  [Tomatillo Red Chili Salsa, [Rice, Fajita Vege...    $11.75   \n",
      "4593  [Roasted Chili Corn Salsa, [Rice, Sour Cream, ...    $11.75   \n",
      "4594  [Roasted Chili Corn Salsa, [Pinto Beans, Sour ...    $11.75   \n",
      "4595  [Tomatillo Green Chili Salsa, [Rice, Black Bea...     $8.75   \n",
      "4596                                                NaN     $4.45   \n",
      "4597                                           [Nestea]     $1.25   \n",
      "4598                                                NaN     $1.50   \n",
      "4599      [Roasted Chili Corn Salsa, [Cheese, Lettuce]]     $8.75   \n",
      "4600                                                NaN     $4.45   \n",
      "4601                                        [Diet Coke]     $1.25   \n",
      "4602                      [Tomatillo Green Chili Salsa]     $9.25   \n",
      "4603                      [Tomatillo Green Chili Salsa]     $9.25   \n",
      "4604  [Fresh Tomato Salsa, [Rice, Black Beans, Chees...     $8.75   \n",
      "4605                                                NaN     $4.45   \n",
      "4606                                             [Coke]     $1.25   \n",
      "4607  [Tomatillo Green Chili Salsa, [Rice, Cheese, S...    $11.75   \n",
      "4608  [Tomatillo Red Chili Salsa, [Fajita Vegetables...    $11.25   \n",
      "4609                                           [Sprite]     $1.25   \n",
      "4610  [Fresh Tomato Salsa, [Rice, Sour Cream, Cheese...    $11.75   \n",
      "4611  [Tomatillo Green Chili Salsa, [Rice, Fajita Ve...    $11.25   \n",
      "4612  [Fresh Tomato Salsa, [Fajita Vegetables, Rice,...     $9.25   \n",
      "4613                                                NaN     $2.15   \n",
      "4614                                                NaN     $1.50   \n",
      "4615   [Fresh Tomato Salsa, [Rice, Cheese, Sour Cream]]     $8.75   \n",
      "4616                                                NaN     $4.45   \n",
      "4617  [Fresh Tomato Salsa, [Rice, Black Beans, Sour ...    $11.75   \n",
      "4618  [Fresh Tomato Salsa, [Rice, Sour Cream, Cheese...    $11.75   \n",
      "4619  [Fresh Tomato Salsa, [Fajita Vegetables, Pinto...    $11.25   \n",
      "4620  [Fresh Tomato Salsa, [Fajita Vegetables, Lettu...     $8.75   \n",
      "4621  [Fresh Tomato Salsa, [Fajita Vegetables, Pinto...     $8.75   \n",
      "\n",
      "[4622 rows x 5 columns]\n"
     ]
    },
    {
     "data": {
      "text/html": [
       "<div>\n",
       "<style>\n",
       "    .dataframe thead tr:only-child th {\n",
       "        text-align: right;\n",
       "    }\n",
       "\n",
       "    .dataframe thead th {\n",
       "        text-align: left;\n",
       "    }\n",
       "\n",
       "    .dataframe tbody tr th {\n",
       "        vertical-align: top;\n",
       "    }\n",
       "</style>\n",
       "<table border=\"1\" class=\"dataframe\">\n",
       "  <thead>\n",
       "    <tr style=\"text-align: right;\">\n",
       "      <th></th>\n",
       "      <th>order_id</th>\n",
       "      <th>quantity</th>\n",
       "      <th>choice_description</th>\n",
       "      <th>item_price</th>\n",
       "    </tr>\n",
       "    <tr>\n",
       "      <th>item_name</th>\n",
       "      <th></th>\n",
       "      <th></th>\n",
       "      <th></th>\n",
       "      <th></th>\n",
       "    </tr>\n",
       "  </thead>\n",
       "  <tbody>\n",
       "    <tr>\n",
       "      <th>6 Pack Soft Drink</th>\n",
       "      <td>1360</td>\n",
       "      <td>2</td>\n",
       "      <td>[Diet Coke]</td>\n",
       "      <td>$12.98</td>\n",
       "    </tr>\n",
       "    <tr>\n",
       "      <th>6 Pack Soft Drink</th>\n",
       "      <td>148</td>\n",
       "      <td>1</td>\n",
       "      <td>[Diet Coke]</td>\n",
       "      <td>$6.49</td>\n",
       "    </tr>\n",
       "    <tr>\n",
       "      <th>6 Pack Soft Drink</th>\n",
       "      <td>749</td>\n",
       "      <td>1</td>\n",
       "      <td>[Coke]</td>\n",
       "      <td>$6.49</td>\n",
       "    </tr>\n",
       "    <tr>\n",
       "      <th>6 Pack Soft Drink</th>\n",
       "      <td>754</td>\n",
       "      <td>1</td>\n",
       "      <td>[Diet Coke]</td>\n",
       "      <td>$6.49</td>\n",
       "    </tr>\n",
       "    <tr>\n",
       "      <th>6 Pack Soft Drink</th>\n",
       "      <td>1076</td>\n",
       "      <td>1</td>\n",
       "      <td>[Coke]</td>\n",
       "      <td>$6.49</td>\n",
       "    </tr>\n",
       "    <tr>\n",
       "      <th>6 Pack Soft Drink</th>\n",
       "      <td>1373</td>\n",
       "      <td>1</td>\n",
       "      <td>[Coke]</td>\n",
       "      <td>$6.49</td>\n",
       "    </tr>\n",
       "    <tr>\n",
       "      <th>6 Pack Soft Drink</th>\n",
       "      <td>230</td>\n",
       "      <td>1</td>\n",
       "      <td>[Diet Coke]</td>\n",
       "      <td>$6.49</td>\n",
       "    </tr>\n",
       "    <tr>\n",
       "      <th>6 Pack Soft Drink</th>\n",
       "      <td>774</td>\n",
       "      <td>1</td>\n",
       "      <td>[Diet Coke]</td>\n",
       "      <td>$6.49</td>\n",
       "    </tr>\n",
       "    <tr>\n",
       "      <th>6 Pack Soft Drink</th>\n",
       "      <td>776</td>\n",
       "      <td>1</td>\n",
       "      <td>[Coke]</td>\n",
       "      <td>$6.49</td>\n",
       "    </tr>\n",
       "    <tr>\n",
       "      <th>6 Pack Soft Drink</th>\n",
       "      <td>784</td>\n",
       "      <td>1</td>\n",
       "      <td>[Diet Coke]</td>\n",
       "      <td>$6.49</td>\n",
       "    </tr>\n",
       "    <tr>\n",
       "      <th>6 Pack Soft Drink</th>\n",
       "      <td>1537</td>\n",
       "      <td>1</td>\n",
       "      <td>[Coke]</td>\n",
       "      <td>$6.49</td>\n",
       "    </tr>\n",
       "    <tr>\n",
       "      <th>6 Pack Soft Drink</th>\n",
       "      <td>129</td>\n",
       "      <td>1</td>\n",
       "      <td>[Sprite]</td>\n",
       "      <td>$6.49</td>\n",
       "    </tr>\n",
       "    <tr>\n",
       "      <th>6 Pack Soft Drink</th>\n",
       "      <td>798</td>\n",
       "      <td>1</td>\n",
       "      <td>[Diet Coke]</td>\n",
       "      <td>$6.49</td>\n",
       "    </tr>\n",
       "    <tr>\n",
       "      <th>6 Pack Soft Drink</th>\n",
       "      <td>481</td>\n",
       "      <td>1</td>\n",
       "      <td>[Coke]</td>\n",
       "      <td>$6.49</td>\n",
       "    </tr>\n",
       "    <tr>\n",
       "      <th>6 Pack Soft Drink</th>\n",
       "      <td>1554</td>\n",
       "      <td>1</td>\n",
       "      <td>[Diet Coke]</td>\n",
       "      <td>$6.49</td>\n",
       "    </tr>\n",
       "    <tr>\n",
       "      <th>6 Pack Soft Drink</th>\n",
       "      <td>465</td>\n",
       "      <td>1</td>\n",
       "      <td>[Coke]</td>\n",
       "      <td>$6.49</td>\n",
       "    </tr>\n",
       "    <tr>\n",
       "      <th>6 Pack Soft Drink</th>\n",
       "      <td>1558</td>\n",
       "      <td>1</td>\n",
       "      <td>[Diet Coke]</td>\n",
       "      <td>$6.49</td>\n",
       "    </tr>\n",
       "    <tr>\n",
       "      <th>6 Pack Soft Drink</th>\n",
       "      <td>849</td>\n",
       "      <td>1</td>\n",
       "      <td>[Coke]</td>\n",
       "      <td>$6.49</td>\n",
       "    </tr>\n",
       "    <tr>\n",
       "      <th>6 Pack Soft Drink</th>\n",
       "      <td>1196</td>\n",
       "      <td>1</td>\n",
       "      <td>[Diet Coke]</td>\n",
       "      <td>$6.49</td>\n",
       "    </tr>\n",
       "    <tr>\n",
       "      <th>6 Pack Soft Drink</th>\n",
       "      <td>1803</td>\n",
       "      <td>1</td>\n",
       "      <td>[Lemonade]</td>\n",
       "      <td>$6.49</td>\n",
       "    </tr>\n",
       "    <tr>\n",
       "      <th>6 Pack Soft Drink</th>\n",
       "      <td>1664</td>\n",
       "      <td>1</td>\n",
       "      <td>[Diet Coke]</td>\n",
       "      <td>$6.49</td>\n",
       "    </tr>\n",
       "    <tr>\n",
       "      <th>6 Pack Soft Drink</th>\n",
       "      <td>1666</td>\n",
       "      <td>1</td>\n",
       "      <td>[Coke]</td>\n",
       "      <td>$6.49</td>\n",
       "    </tr>\n",
       "    <tr>\n",
       "      <th>6 Pack Soft Drink</th>\n",
       "      <td>1800</td>\n",
       "      <td>1</td>\n",
       "      <td>[Diet Coke]</td>\n",
       "      <td>$6.49</td>\n",
       "    </tr>\n",
       "    <tr>\n",
       "      <th>6 Pack Soft Drink</th>\n",
       "      <td>1798</td>\n",
       "      <td>1</td>\n",
       "      <td>[Diet Coke]</td>\n",
       "      <td>$6.49</td>\n",
       "    </tr>\n",
       "    <tr>\n",
       "      <th>6 Pack Soft Drink</th>\n",
       "      <td>1525</td>\n",
       "      <td>1</td>\n",
       "      <td>[Sprite]</td>\n",
       "      <td>$6.49</td>\n",
       "    </tr>\n",
       "    <tr>\n",
       "      <th>6 Pack Soft Drink</th>\n",
       "      <td>949</td>\n",
       "      <td>1</td>\n",
       "      <td>[Coke]</td>\n",
       "      <td>$6.49</td>\n",
       "    </tr>\n",
       "    <tr>\n",
       "      <th>6 Pack Soft Drink</th>\n",
       "      <td>1248</td>\n",
       "      <td>1</td>\n",
       "      <td>[Diet Coke]</td>\n",
       "      <td>$6.49</td>\n",
       "    </tr>\n",
       "    <tr>\n",
       "      <th>6 Pack Soft Drink</th>\n",
       "      <td>1253</td>\n",
       "      <td>1</td>\n",
       "      <td>[Lemonade]</td>\n",
       "      <td>$6.49</td>\n",
       "    </tr>\n",
       "    <tr>\n",
       "      <th>6 Pack Soft Drink</th>\n",
       "      <td>264</td>\n",
       "      <td>1</td>\n",
       "      <td>[Diet Coke]</td>\n",
       "      <td>$6.49</td>\n",
       "    </tr>\n",
       "    <tr>\n",
       "      <th>6 Pack Soft Drink</th>\n",
       "      <td>422</td>\n",
       "      <td>1</td>\n",
       "      <td>[Sprite]</td>\n",
       "      <td>$6.49</td>\n",
       "    </tr>\n",
       "    <tr>\n",
       "      <th>...</th>\n",
       "      <td>...</td>\n",
       "      <td>...</td>\n",
       "      <td>...</td>\n",
       "      <td>...</td>\n",
       "    </tr>\n",
       "    <tr>\n",
       "      <th>Veggie Salad</th>\n",
       "      <td>1192</td>\n",
       "      <td>1</td>\n",
       "      <td>[Roasted Chili Corn Salsa (Medium), [Black Bea...</td>\n",
       "      <td>$8.49</td>\n",
       "    </tr>\n",
       "    <tr>\n",
       "      <th>Veggie Salad</th>\n",
       "      <td>1263</td>\n",
       "      <td>1</td>\n",
       "      <td>[[Fresh Tomato Salsa (Mild), Roasted Chili Cor...</td>\n",
       "      <td>$8.49</td>\n",
       "    </tr>\n",
       "    <tr>\n",
       "      <th>Veggie Salad</th>\n",
       "      <td>1635</td>\n",
       "      <td>1</td>\n",
       "      <td>[[Fresh Tomato Salsa (Mild), Roasted Chili Cor...</td>\n",
       "      <td>$8.49</td>\n",
       "    </tr>\n",
       "    <tr>\n",
       "      <th>Veggie Salad</th>\n",
       "      <td>686</td>\n",
       "      <td>1</td>\n",
       "      <td>[[Fresh Tomato Salsa (Mild), Roasted Chili Cor...</td>\n",
       "      <td>$8.49</td>\n",
       "    </tr>\n",
       "    <tr>\n",
       "      <th>Veggie Salad</th>\n",
       "      <td>1094</td>\n",
       "      <td>1</td>\n",
       "      <td>[[Tomatillo-Green Chili Salsa (Medium), Roaste...</td>\n",
       "      <td>$8.49</td>\n",
       "    </tr>\n",
       "    <tr>\n",
       "      <th>Veggie Salad Bowl</th>\n",
       "      <td>1677</td>\n",
       "      <td>1</td>\n",
       "      <td>[Fresh Tomato Salsa, [Fajita Vegetables, Black...</td>\n",
       "      <td>$11.25</td>\n",
       "    </tr>\n",
       "    <tr>\n",
       "      <th>Veggie Salad Bowl</th>\n",
       "      <td>760</td>\n",
       "      <td>1</td>\n",
       "      <td>[Fresh Tomato Salsa, [Fajita Vegetables, Rice,...</td>\n",
       "      <td>$11.25</td>\n",
       "    </tr>\n",
       "    <tr>\n",
       "      <th>Veggie Salad Bowl</th>\n",
       "      <td>195</td>\n",
       "      <td>1</td>\n",
       "      <td>[Fresh Tomato Salsa, [Fajita Vegetables, Rice,...</td>\n",
       "      <td>$11.25</td>\n",
       "    </tr>\n",
       "    <tr>\n",
       "      <th>Veggie Salad Bowl</th>\n",
       "      <td>1289</td>\n",
       "      <td>1</td>\n",
       "      <td>[Tomatillo Red Chili Salsa, [Fajita Vegetables...</td>\n",
       "      <td>$11.25</td>\n",
       "    </tr>\n",
       "    <tr>\n",
       "      <th>Veggie Salad Bowl</th>\n",
       "      <td>896</td>\n",
       "      <td>1</td>\n",
       "      <td>[Roasted Chili Corn Salsa, Fajita Vegetables]</td>\n",
       "      <td>$8.75</td>\n",
       "    </tr>\n",
       "    <tr>\n",
       "      <th>Veggie Salad Bowl</th>\n",
       "      <td>913</td>\n",
       "      <td>1</td>\n",
       "      <td>[Fresh Tomato Salsa, [Fajita Vegetables, Rice,...</td>\n",
       "      <td>$8.75</td>\n",
       "    </tr>\n",
       "    <tr>\n",
       "      <th>Veggie Salad Bowl</th>\n",
       "      <td>1805</td>\n",
       "      <td>1</td>\n",
       "      <td>[Tomatillo Green Chili Salsa, [Fajita Vegetabl...</td>\n",
       "      <td>$8.75</td>\n",
       "    </tr>\n",
       "    <tr>\n",
       "      <th>Veggie Salad Bowl</th>\n",
       "      <td>1321</td>\n",
       "      <td>1</td>\n",
       "      <td>[Fresh Tomato Salsa, [Rice, Black Beans, Chees...</td>\n",
       "      <td>$8.75</td>\n",
       "    </tr>\n",
       "    <tr>\n",
       "      <th>Veggie Salad Bowl</th>\n",
       "      <td>83</td>\n",
       "      <td>1</td>\n",
       "      <td>[Fresh Tomato Salsa, [Fajita Vegetables, Rice,...</td>\n",
       "      <td>$11.25</td>\n",
       "    </tr>\n",
       "    <tr>\n",
       "      <th>Veggie Salad Bowl</th>\n",
       "      <td>394</td>\n",
       "      <td>1</td>\n",
       "      <td>[Fresh Tomato Salsa, [Fajita Vegetables, Lettu...</td>\n",
       "      <td>$8.75</td>\n",
       "    </tr>\n",
       "    <tr>\n",
       "      <th>Veggie Salad Bowl</th>\n",
       "      <td>536</td>\n",
       "      <td>1</td>\n",
       "      <td>[Fresh Tomato Salsa, [Fajita Vegetables, Rice,...</td>\n",
       "      <td>$8.75</td>\n",
       "    </tr>\n",
       "    <tr>\n",
       "      <th>Veggie Salad Bowl</th>\n",
       "      <td>869</td>\n",
       "      <td>1</td>\n",
       "      <td>[Tomatillo Red Chili Salsa, [Fajita Vegetables...</td>\n",
       "      <td>$11.25</td>\n",
       "    </tr>\n",
       "    <tr>\n",
       "      <th>Veggie Salad Bowl</th>\n",
       "      <td>1700</td>\n",
       "      <td>1</td>\n",
       "      <td>[Fresh Tomato Salsa, [Fajita Vegetables, Rice,...</td>\n",
       "      <td>$11.25</td>\n",
       "    </tr>\n",
       "    <tr>\n",
       "      <th>Veggie Salad Bowl</th>\n",
       "      <td>128</td>\n",
       "      <td>1</td>\n",
       "      <td>[Fresh Tomato Salsa, [Fajita Vegetables, Lettu...</td>\n",
       "      <td>$11.25</td>\n",
       "    </tr>\n",
       "    <tr>\n",
       "      <th>Veggie Salad Bowl</th>\n",
       "      <td>1818</td>\n",
       "      <td>1</td>\n",
       "      <td>[Fresh Tomato Salsa, [Fajita Vegetables, Pinto...</td>\n",
       "      <td>$8.75</td>\n",
       "    </tr>\n",
       "    <tr>\n",
       "      <th>Veggie Salad Bowl</th>\n",
       "      <td>1066</td>\n",
       "      <td>1</td>\n",
       "      <td>[Roasted Chili Corn Salsa, [Fajita Vegetables,...</td>\n",
       "      <td>$8.75</td>\n",
       "    </tr>\n",
       "    <tr>\n",
       "      <th>Veggie Salad Bowl</th>\n",
       "      <td>207</td>\n",
       "      <td>1</td>\n",
       "      <td>[Fresh Tomato Salsa, [Rice, Lettuce, Guacamole...</td>\n",
       "      <td>$11.25</td>\n",
       "    </tr>\n",
       "    <tr>\n",
       "      <th>Veggie Salad Bowl</th>\n",
       "      <td>1646</td>\n",
       "      <td>1</td>\n",
       "      <td>[Tomatillo Red Chili Salsa, [Fajita Vegetables...</td>\n",
       "      <td>$11.25</td>\n",
       "    </tr>\n",
       "    <tr>\n",
       "      <th>Veggie Soft Tacos</th>\n",
       "      <td>304</td>\n",
       "      <td>1</td>\n",
       "      <td>[Tomatillo Red Chili Salsa, [Fajita Vegetables...</td>\n",
       "      <td>$11.25</td>\n",
       "    </tr>\n",
       "    <tr>\n",
       "      <th>Veggie Soft Tacos</th>\n",
       "      <td>1559</td>\n",
       "      <td>2</td>\n",
       "      <td>[Fresh Tomato Salsa (Mild), [Black Beans, Rice...</td>\n",
       "      <td>$16.98</td>\n",
       "    </tr>\n",
       "    <tr>\n",
       "      <th>Veggie Soft Tacos</th>\n",
       "      <td>948</td>\n",
       "      <td>1</td>\n",
       "      <td>[Roasted Chili Corn Salsa, [Fajita Vegetables,...</td>\n",
       "      <td>$8.75</td>\n",
       "    </tr>\n",
       "    <tr>\n",
       "      <th>Veggie Soft Tacos</th>\n",
       "      <td>322</td>\n",
       "      <td>1</td>\n",
       "      <td>[Fresh Tomato Salsa, [Black Beans, Cheese, Sou...</td>\n",
       "      <td>$8.75</td>\n",
       "    </tr>\n",
       "    <tr>\n",
       "      <th>Veggie Soft Tacos</th>\n",
       "      <td>1132</td>\n",
       "      <td>1</td>\n",
       "      <td>[Roasted Chili Corn Salsa (Medium), [Black Bea...</td>\n",
       "      <td>$8.49</td>\n",
       "    </tr>\n",
       "    <tr>\n",
       "      <th>Veggie Soft Tacos</th>\n",
       "      <td>688</td>\n",
       "      <td>1</td>\n",
       "      <td>[Fresh Tomato Salsa, [Fajita Vegetables, Rice,...</td>\n",
       "      <td>$11.25</td>\n",
       "    </tr>\n",
       "    <tr>\n",
       "      <th>Veggie Soft Tacos</th>\n",
       "      <td>567</td>\n",
       "      <td>1</td>\n",
       "      <td>[Fresh Tomato Salsa (Mild), [Pinto Beans, Rice...</td>\n",
       "      <td>$8.49</td>\n",
       "    </tr>\n",
       "  </tbody>\n",
       "</table>\n",
       "<p>4622 rows × 4 columns</p>\n",
       "</div>"
      ],
      "text/plain": [
       "                   order_id  quantity  \\\n",
       "item_name                               \n",
       "6 Pack Soft Drink      1360         2   \n",
       "6 Pack Soft Drink       148         1   \n",
       "6 Pack Soft Drink       749         1   \n",
       "6 Pack Soft Drink       754         1   \n",
       "6 Pack Soft Drink      1076         1   \n",
       "6 Pack Soft Drink      1373         1   \n",
       "6 Pack Soft Drink       230         1   \n",
       "6 Pack Soft Drink       774         1   \n",
       "6 Pack Soft Drink       776         1   \n",
       "6 Pack Soft Drink       784         1   \n",
       "6 Pack Soft Drink      1537         1   \n",
       "6 Pack Soft Drink       129         1   \n",
       "6 Pack Soft Drink       798         1   \n",
       "6 Pack Soft Drink       481         1   \n",
       "6 Pack Soft Drink      1554         1   \n",
       "6 Pack Soft Drink       465         1   \n",
       "6 Pack Soft Drink      1558         1   \n",
       "6 Pack Soft Drink       849         1   \n",
       "6 Pack Soft Drink      1196         1   \n",
       "6 Pack Soft Drink      1803         1   \n",
       "6 Pack Soft Drink      1664         1   \n",
       "6 Pack Soft Drink      1666         1   \n",
       "6 Pack Soft Drink      1800         1   \n",
       "6 Pack Soft Drink      1798         1   \n",
       "6 Pack Soft Drink      1525         1   \n",
       "6 Pack Soft Drink       949         1   \n",
       "6 Pack Soft Drink      1248         1   \n",
       "6 Pack Soft Drink      1253         1   \n",
       "6 Pack Soft Drink       264         1   \n",
       "6 Pack Soft Drink       422         1   \n",
       "...                     ...       ...   \n",
       "Veggie Salad           1192         1   \n",
       "Veggie Salad           1263         1   \n",
       "Veggie Salad           1635         1   \n",
       "Veggie Salad            686         1   \n",
       "Veggie Salad           1094         1   \n",
       "Veggie Salad Bowl      1677         1   \n",
       "Veggie Salad Bowl       760         1   \n",
       "Veggie Salad Bowl       195         1   \n",
       "Veggie Salad Bowl      1289         1   \n",
       "Veggie Salad Bowl       896         1   \n",
       "Veggie Salad Bowl       913         1   \n",
       "Veggie Salad Bowl      1805         1   \n",
       "Veggie Salad Bowl      1321         1   \n",
       "Veggie Salad Bowl        83         1   \n",
       "Veggie Salad Bowl       394         1   \n",
       "Veggie Salad Bowl       536         1   \n",
       "Veggie Salad Bowl       869         1   \n",
       "Veggie Salad Bowl      1700         1   \n",
       "Veggie Salad Bowl       128         1   \n",
       "Veggie Salad Bowl      1818         1   \n",
       "Veggie Salad Bowl      1066         1   \n",
       "Veggie Salad Bowl       207         1   \n",
       "Veggie Salad Bowl      1646         1   \n",
       "Veggie Soft Tacos       304         1   \n",
       "Veggie Soft Tacos      1559         2   \n",
       "Veggie Soft Tacos       948         1   \n",
       "Veggie Soft Tacos       322         1   \n",
       "Veggie Soft Tacos      1132         1   \n",
       "Veggie Soft Tacos       688         1   \n",
       "Veggie Soft Tacos       567         1   \n",
       "\n",
       "                                                  choice_description  \\\n",
       "item_name                                                              \n",
       "6 Pack Soft Drink                                        [Diet Coke]   \n",
       "6 Pack Soft Drink                                        [Diet Coke]   \n",
       "6 Pack Soft Drink                                             [Coke]   \n",
       "6 Pack Soft Drink                                        [Diet Coke]   \n",
       "6 Pack Soft Drink                                             [Coke]   \n",
       "6 Pack Soft Drink                                             [Coke]   \n",
       "6 Pack Soft Drink                                        [Diet Coke]   \n",
       "6 Pack Soft Drink                                        [Diet Coke]   \n",
       "6 Pack Soft Drink                                             [Coke]   \n",
       "6 Pack Soft Drink                                        [Diet Coke]   \n",
       "6 Pack Soft Drink                                             [Coke]   \n",
       "6 Pack Soft Drink                                           [Sprite]   \n",
       "6 Pack Soft Drink                                        [Diet Coke]   \n",
       "6 Pack Soft Drink                                             [Coke]   \n",
       "6 Pack Soft Drink                                        [Diet Coke]   \n",
       "6 Pack Soft Drink                                             [Coke]   \n",
       "6 Pack Soft Drink                                        [Diet Coke]   \n",
       "6 Pack Soft Drink                                             [Coke]   \n",
       "6 Pack Soft Drink                                        [Diet Coke]   \n",
       "6 Pack Soft Drink                                         [Lemonade]   \n",
       "6 Pack Soft Drink                                        [Diet Coke]   \n",
       "6 Pack Soft Drink                                             [Coke]   \n",
       "6 Pack Soft Drink                                        [Diet Coke]   \n",
       "6 Pack Soft Drink                                        [Diet Coke]   \n",
       "6 Pack Soft Drink                                           [Sprite]   \n",
       "6 Pack Soft Drink                                             [Coke]   \n",
       "6 Pack Soft Drink                                        [Diet Coke]   \n",
       "6 Pack Soft Drink                                         [Lemonade]   \n",
       "6 Pack Soft Drink                                        [Diet Coke]   \n",
       "6 Pack Soft Drink                                           [Sprite]   \n",
       "...                                                              ...   \n",
       "Veggie Salad       [Roasted Chili Corn Salsa (Medium), [Black Bea...   \n",
       "Veggie Salad       [[Fresh Tomato Salsa (Mild), Roasted Chili Cor...   \n",
       "Veggie Salad       [[Fresh Tomato Salsa (Mild), Roasted Chili Cor...   \n",
       "Veggie Salad       [[Fresh Tomato Salsa (Mild), Roasted Chili Cor...   \n",
       "Veggie Salad       [[Tomatillo-Green Chili Salsa (Medium), Roaste...   \n",
       "Veggie Salad Bowl  [Fresh Tomato Salsa, [Fajita Vegetables, Black...   \n",
       "Veggie Salad Bowl  [Fresh Tomato Salsa, [Fajita Vegetables, Rice,...   \n",
       "Veggie Salad Bowl  [Fresh Tomato Salsa, [Fajita Vegetables, Rice,...   \n",
       "Veggie Salad Bowl  [Tomatillo Red Chili Salsa, [Fajita Vegetables...   \n",
       "Veggie Salad Bowl      [Roasted Chili Corn Salsa, Fajita Vegetables]   \n",
       "Veggie Salad Bowl  [Fresh Tomato Salsa, [Fajita Vegetables, Rice,...   \n",
       "Veggie Salad Bowl  [Tomatillo Green Chili Salsa, [Fajita Vegetabl...   \n",
       "Veggie Salad Bowl  [Fresh Tomato Salsa, [Rice, Black Beans, Chees...   \n",
       "Veggie Salad Bowl  [Fresh Tomato Salsa, [Fajita Vegetables, Rice,...   \n",
       "Veggie Salad Bowl  [Fresh Tomato Salsa, [Fajita Vegetables, Lettu...   \n",
       "Veggie Salad Bowl  [Fresh Tomato Salsa, [Fajita Vegetables, Rice,...   \n",
       "Veggie Salad Bowl  [Tomatillo Red Chili Salsa, [Fajita Vegetables...   \n",
       "Veggie Salad Bowl  [Fresh Tomato Salsa, [Fajita Vegetables, Rice,...   \n",
       "Veggie Salad Bowl  [Fresh Tomato Salsa, [Fajita Vegetables, Lettu...   \n",
       "Veggie Salad Bowl  [Fresh Tomato Salsa, [Fajita Vegetables, Pinto...   \n",
       "Veggie Salad Bowl  [Roasted Chili Corn Salsa, [Fajita Vegetables,...   \n",
       "Veggie Salad Bowl  [Fresh Tomato Salsa, [Rice, Lettuce, Guacamole...   \n",
       "Veggie Salad Bowl  [Tomatillo Red Chili Salsa, [Fajita Vegetables...   \n",
       "Veggie Soft Tacos  [Tomatillo Red Chili Salsa, [Fajita Vegetables...   \n",
       "Veggie Soft Tacos  [Fresh Tomato Salsa (Mild), [Black Beans, Rice...   \n",
       "Veggie Soft Tacos  [Roasted Chili Corn Salsa, [Fajita Vegetables,...   \n",
       "Veggie Soft Tacos  [Fresh Tomato Salsa, [Black Beans, Cheese, Sou...   \n",
       "Veggie Soft Tacos  [Roasted Chili Corn Salsa (Medium), [Black Bea...   \n",
       "Veggie Soft Tacos  [Fresh Tomato Salsa, [Fajita Vegetables, Rice,...   \n",
       "Veggie Soft Tacos  [Fresh Tomato Salsa (Mild), [Pinto Beans, Rice...   \n",
       "\n",
       "                  item_price  \n",
       "item_name                     \n",
       "6 Pack Soft Drink    $12.98   \n",
       "6 Pack Soft Drink     $6.49   \n",
       "6 Pack Soft Drink     $6.49   \n",
       "6 Pack Soft Drink     $6.49   \n",
       "6 Pack Soft Drink     $6.49   \n",
       "6 Pack Soft Drink     $6.49   \n",
       "6 Pack Soft Drink     $6.49   \n",
       "6 Pack Soft Drink     $6.49   \n",
       "6 Pack Soft Drink     $6.49   \n",
       "6 Pack Soft Drink     $6.49   \n",
       "6 Pack Soft Drink     $6.49   \n",
       "6 Pack Soft Drink     $6.49   \n",
       "6 Pack Soft Drink     $6.49   \n",
       "6 Pack Soft Drink     $6.49   \n",
       "6 Pack Soft Drink     $6.49   \n",
       "6 Pack Soft Drink     $6.49   \n",
       "6 Pack Soft Drink     $6.49   \n",
       "6 Pack Soft Drink     $6.49   \n",
       "6 Pack Soft Drink     $6.49   \n",
       "6 Pack Soft Drink     $6.49   \n",
       "6 Pack Soft Drink     $6.49   \n",
       "6 Pack Soft Drink     $6.49   \n",
       "6 Pack Soft Drink     $6.49   \n",
       "6 Pack Soft Drink     $6.49   \n",
       "6 Pack Soft Drink     $6.49   \n",
       "6 Pack Soft Drink     $6.49   \n",
       "6 Pack Soft Drink     $6.49   \n",
       "6 Pack Soft Drink     $6.49   \n",
       "6 Pack Soft Drink     $6.49   \n",
       "6 Pack Soft Drink     $6.49   \n",
       "...                      ...  \n",
       "Veggie Salad          $8.49   \n",
       "Veggie Salad          $8.49   \n",
       "Veggie Salad          $8.49   \n",
       "Veggie Salad          $8.49   \n",
       "Veggie Salad          $8.49   \n",
       "Veggie Salad Bowl    $11.25   \n",
       "Veggie Salad Bowl    $11.25   \n",
       "Veggie Salad Bowl    $11.25   \n",
       "Veggie Salad Bowl    $11.25   \n",
       "Veggie Salad Bowl     $8.75   \n",
       "Veggie Salad Bowl     $8.75   \n",
       "Veggie Salad Bowl     $8.75   \n",
       "Veggie Salad Bowl     $8.75   \n",
       "Veggie Salad Bowl    $11.25   \n",
       "Veggie Salad Bowl     $8.75   \n",
       "Veggie Salad Bowl     $8.75   \n",
       "Veggie Salad Bowl    $11.25   \n",
       "Veggie Salad Bowl    $11.25   \n",
       "Veggie Salad Bowl    $11.25   \n",
       "Veggie Salad Bowl     $8.75   \n",
       "Veggie Salad Bowl     $8.75   \n",
       "Veggie Salad Bowl    $11.25   \n",
       "Veggie Salad Bowl    $11.25   \n",
       "Veggie Soft Tacos    $11.25   \n",
       "Veggie Soft Tacos    $16.98   \n",
       "Veggie Soft Tacos     $8.75   \n",
       "Veggie Soft Tacos     $8.75   \n",
       "Veggie Soft Tacos     $8.49   \n",
       "Veggie Soft Tacos    $11.25   \n",
       "Veggie Soft Tacos     $8.49   \n",
       "\n",
       "[4622 rows x 4 columns]"
      ]
     },
     "execution_count": 1,
     "metadata": {},
     "output_type": "execute_result"
    }
   ],
   "source": [
    "import pandas as pd\n",
    "\n",
    "chipo = pd.read_csv('chipotle.tsv',error_bad_lines=False, sep=\"\\t\")\n",
    "print(chipo)\n",
    "chipo = chipo.set_index('item_name')\n",
    "chipo.sort_index()"
   ]
  },
  {
   "cell_type": "markdown",
   "metadata": {},
   "source": [
    "Сколько было заказано самого дорогого предмета?"
   ]
  },
  {
   "cell_type": "code",
   "execution_count": 14,
   "metadata": {},
   "outputs": [
    {
     "name": "stdout",
     "output_type": "stream",
     "text": [
      "44.25\n",
      "1\n"
     ]
    },
    {
     "data": {
      "text/plain": [
       "15"
      ]
     },
     "execution_count": 14,
     "metadata": {},
     "output_type": "execute_result"
    }
   ],
   "source": [
    "import pandas as pd\n",
    "\n",
    "chipo = pd.read_csv('chipotle.tsv',error_bad_lines=False, sep=\"\\t\")\n",
    "chipo[['item_price']] = chipo.item_price.str.replace(r\"\\$\", r\"\", True).astype('float32')\n",
    "#max_row = np.argmax(df['A'].values)\n",
    "max_row = chipo['item_price'].argmax()\n",
    "line_max = chipo['item_price'].values[max_row]\n",
    "print(line_max)\n",
    "print(len(chipo[chipo.item_price == line_max]))\n",
    "chipo[chipo.item_price == line_max]['quantity'].values[0]"
   ]
  },
  {
   "cell_type": "markdown",
   "metadata": {},
   "source": [
    "Сколько раз был заказан предмет \"Veggie Salad Bowl\"?"
   ]
  },
  {
   "cell_type": "code",
   "execution_count": 113,
   "metadata": {},
   "outputs": [
    {
     "name": "stdout",
     "output_type": "stream",
     "text": [
      "18\n"
     ]
    }
   ],
   "source": [
    "import pandas as pd\n",
    "\n",
    "chipo = pd.read_csv('chipotle.tsv',error_bad_lines=False, sep=\"\\t\")\n",
    "print(len(chipo[chipo.item_name == 'Veggie Salad Bowl']))"
   ]
  },
  {
   "cell_type": "markdown",
   "metadata": {},
   "source": [
    "Сколько раз люди заказали более чем 1 предмет \"Canned Soda\"?"
   ]
  },
  {
   "cell_type": "code",
   "execution_count": 119,
   "metadata": {},
   "outputs": [
    {
     "name": "stdout",
     "output_type": "stream",
     "text": [
      "      order_id  quantity    item_name choice_description item_price\n",
      "18           9         2  Canned Soda           [Sprite]     $2.18 \n",
      "51          23         2  Canned Soda     [Mountain Dew]     $2.18 \n",
      "...        ...       ...          ...                ...        ...\n",
      "3592      1440         2  Canned Soda        [Diet Coke]     $2.18 \n",
      "3866      1550         2  Canned Soda     [Mountain Dew]     $2.18 \n",
      "\n",
      "[20 rows x 5 columns]\n",
      "20\n"
     ]
    },
    {
     "name": "stderr",
     "output_type": "stream",
     "text": [
      "C:\\ProgramData\\Anaconda3\\lib\\site-packages\\ipykernel_launcher.py:2: UserWarning: Boolean Series key will be reindexed to match DataFrame index.\n",
      "  \n",
      "C:\\ProgramData\\Anaconda3\\lib\\site-packages\\ipykernel_launcher.py:3: UserWarning: Boolean Series key will be reindexed to match DataFrame index.\n",
      "  This is separate from the ipykernel package so we can avoid doing imports until\n"
     ]
    }
   ],
   "source": [
    "chipo[['quantity']].apply(pd.to_numeric)\n",
    "print(chipo[chipo.item_name == 'Canned Soda'][chipo.quantity > 1])\n",
    "print(len(chipo[chipo.item_name == 'Canned Soda'][chipo.quantity > 1]))"
   ]
  },
  {
   "cell_type": "code",
   "execution_count": null,
   "metadata": {
    "collapsed": true
   },
   "outputs": [],
   "source": []
  }
 ],
 "metadata": {
  "kernelspec": {
   "display_name": "Python 3",
   "language": "python",
   "name": "python3"
  },
  "language_info": {
   "codemirror_mode": {
    "name": "ipython",
    "version": 3
   },
   "file_extension": ".py",
   "mimetype": "text/x-python",
   "name": "python",
   "nbconvert_exporter": "python",
   "pygments_lexer": "ipython3",
   "version": "3.6.1"
  }
 },
 "nbformat": 4,
 "nbformat_minor": 2
}
